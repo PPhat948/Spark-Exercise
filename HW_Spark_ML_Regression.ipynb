{
  "cells": [
    {
      "cell_type": "markdown",
      "source": [],
      "metadata": {
        "id": "e2KHEOlxvY58"
      }
    },
    {
      "cell_type": "code",
      "execution_count": null,
      "metadata": {
        "colab": {
          "base_uri": "https://localhost:8080/"
        },
        "id": "FAtJ8Jh_z-7t",
        "outputId": "be795e7d-9b16-4968-82ff-0c7e87b46e16"
      },
      "outputs": [
        {
          "output_type": "stream",
          "name": "stdout",
          "text": [
            "Requirement already satisfied: pyspark in /usr/local/lib/python3.11/dist-packages (3.5.5)\n",
            "Requirement already satisfied: py4j==0.10.9.7 in /usr/local/lib/python3.11/dist-packages (from pyspark) (0.10.9.7)\n",
            "Collecting findspark\n",
            "  Downloading findspark-2.0.1-py2.py3-none-any.whl.metadata (352 bytes)\n",
            "Downloading findspark-2.0.1-py2.py3-none-any.whl (4.4 kB)\n",
            "Installing collected packages: findspark\n",
            "Successfully installed findspark-2.0.1\n"
          ]
        }
      ],
      "source": [
        "# Installing required packages\n",
        "!pip install pyspark\n",
        "!pip install findspark"
      ]
    },
    {
      "cell_type": "code",
      "execution_count": null,
      "metadata": {
        "id": "e34Q4qnfz-y8"
      },
      "outputs": [],
      "source": [
        "from pyspark import SparkContext, SparkConf\n",
        "from pyspark.sql import SparkSession"
      ]
    },
    {
      "cell_type": "markdown",
      "metadata": {
        "id": "8axg4DFh06SW"
      },
      "source": []
    },
    {
      "cell_type": "code",
      "execution_count": null,
      "metadata": {
        "collapsed": true,
        "id": "sqOwMWgOwBGi"
      },
      "outputs": [],
      "source": [
        "from pyspark.sql import SQLContext"
      ]
    },
    {
      "cell_type": "code",
      "execution_count": null,
      "metadata": {
        "id": "eCkhgiSsYqtX"
      },
      "outputs": [],
      "source": [
        "spark = SparkSession \\\n",
        "    .builder \\\n",
        "    .appName(\"ML_Regression_Example1\") \\\n",
        "    .getOrCreate()"
      ]
    },
    {
      "cell_type": "markdown",
      "metadata": {
        "id": "xDOcBO-rkuPB"
      },
      "source": [
        "# Create Spark Context"
      ]
    },
    {
      "cell_type": "code",
      "execution_count": null,
      "metadata": {
        "colab": {
          "base_uri": "https://localhost:8080/"
        },
        "collapsed": true,
        "id": "H0fnixykwBGl",
        "outputId": "b08c121f-c71d-40b1-aeeb-72f8764b6300"
      },
      "outputs": [
        {
          "output_type": "stream",
          "name": "stderr",
          "text": [
            "/usr/local/lib/python3.11/dist-packages/pyspark/sql/context.py:113: FutureWarning: Deprecated in 3.0.0. Use SparkSession.builder.getOrCreate() instead.\n",
            "  warnings.warn(\n"
          ]
        }
      ],
      "source": [
        "sc = spark.sparkContext\n",
        "\n",
        "\n",
        "sqlContext = SQLContext(sc)"
      ]
    },
    {
      "cell_type": "code",
      "execution_count": null,
      "metadata": {
        "id": "FWglhYsLwPL0"
      },
      "outputs": [],
      "source": [
        "# from google.colab import files\n",
        "# uploaded = files.upload()\n"
      ]
    },
    {
      "cell_type": "markdown",
      "metadata": {
        "id": "Ac8MHqWOkyvb"
      },
      "source": []
    },
    {
      "cell_type": "code",
      "execution_count": null,
      "metadata": {
        "collapsed": true,
        "id": "ZWAofGUswBGl"
      },
      "outputs": [],
      "source": [
        "file='minute_weather.csv'\n",
        "\n",
        "df = sqlContext.read.load(file,\n",
        "                          format='com.databricks.spark.csv',\n",
        "                          header='true',inferSchema='true')"
      ]
    },
    {
      "cell_type": "code",
      "execution_count": null,
      "metadata": {
        "id": "YeX5KsGXwBGm",
        "colab": {
          "base_uri": "https://localhost:8080/"
        },
        "outputId": "e52bf6ac-5871-44fa-8776-f70952e59e35"
      },
      "outputs": [
        {
          "output_type": "execute_result",
          "data": {
            "text/plain": [
              "['rowID',\n",
              " 'hpwren_timestamp',\n",
              " 'air_pressure',\n",
              " 'air_temp',\n",
              " 'avg_wind_direction',\n",
              " 'avg_wind_speed',\n",
              " 'max_wind_direction',\n",
              " 'max_wind_speed',\n",
              " 'min_wind_direction',\n",
              " 'min_wind_speed',\n",
              " 'rain_accumulation',\n",
              " 'rain_duration',\n",
              " 'relative_humidity']"
            ]
          },
          "metadata": {},
          "execution_count": 10
        }
      ],
      "source": [
        "df.columns"
      ]
    },
    {
      "cell_type": "code",
      "execution_count": null,
      "metadata": {
        "id": "-vjXANWwwBGm",
        "colab": {
          "base_uri": "https://localhost:8080/"
        },
        "outputId": "6a75dce7-d4f0-4274-e265-ffef9cbf196f"
      },
      "outputs": [
        {
          "output_type": "stream",
          "name": "stdout",
          "text": [
            "root\n",
            " |-- rowID: integer (nullable = true)\n",
            " |-- hpwren_timestamp: timestamp (nullable = true)\n",
            " |-- air_pressure: double (nullable = true)\n",
            " |-- air_temp: double (nullable = true)\n",
            " |-- avg_wind_direction: double (nullable = true)\n",
            " |-- avg_wind_speed: double (nullable = true)\n",
            " |-- max_wind_direction: double (nullable = true)\n",
            " |-- max_wind_speed: double (nullable = true)\n",
            " |-- min_wind_direction: double (nullable = true)\n",
            " |-- min_wind_speed: double (nullable = true)\n",
            " |-- rain_accumulation: double (nullable = true)\n",
            " |-- rain_duration: double (nullable = true)\n",
            " |-- relative_humidity: double (nullable = true)\n",
            "\n"
          ]
        }
      ],
      "source": [
        "df.printSchema()"
      ]
    },
    {
      "cell_type": "code",
      "execution_count": null,
      "metadata": {
        "id": "3WM1mgbBwBGn",
        "colab": {
          "base_uri": "https://localhost:8080/",
          "height": 457
        },
        "outputId": "8e91eee9-5297-4430-dbae-072be1430b6f"
      },
      "outputs": [
        {
          "output_type": "execute_result",
          "data": {
            "text/plain": [
              "                          0                      1                   2      3  \\\n",
              "summary               count                   mean              stddev    min   \n",
              "rowID               1587257               793628.0   458201.7724491034      0   \n",
              "air_pressure        1587257      916.8301266904355  3.0515931266797334  905.0   \n",
              "air_temp            1587257      61.85144042833238  11.833623786835483  31.64   \n",
              "avg_wind_direction  1586824     161.96537927331576   95.20811970204007    0.0   \n",
              "avg_wind_speed      1586824      2.774272067979729   2.060757793563034    0.0   \n",
              "max_wind_direction  1586824     163.40304784903682    92.3672342806411    0.0   \n",
              "max_wind_speed      1586824     3.3998134008569094  2.4231674336171545    0.1   \n",
              "min_wind_direction  1586824     166.82637078844283    97.4627462007766    0.0   \n",
              "min_wind_speed      1586824     2.1331304542923206  1.7453450849327021    0.0   \n",
              "rain_accumulation   1587256  0.0018548362708977345  0.9609715682155956    0.0   \n",
              "rain_duration       1587256     0.5361460281139274    81.1476564505365    0.0   \n",
              "relative_humidity   1587257      47.60836877707868   26.21454390649868    0.7   \n",
              "\n",
              "                          4  \n",
              "summary                 max  \n",
              "rowID               1587256  \n",
              "air_pressure          929.5  \n",
              "air_temp               99.5  \n",
              "avg_wind_direction    359.0  \n",
              "avg_wind_speed         32.3  \n",
              "max_wind_direction    359.0  \n",
              "max_wind_speed         36.0  \n",
              "min_wind_direction    359.0  \n",
              "min_wind_speed         32.0  \n",
              "rain_accumulation    655.01  \n",
              "rain_duration       63305.0  \n",
              "relative_humidity      93.0  "
            ],
            "text/html": [
              "\n",
              "  <div id=\"df-0fc4c811-dde9-41f1-b73d-3d3575d0923b\" class=\"colab-df-container\">\n",
              "    <div>\n",
              "<style scoped>\n",
              "    .dataframe tbody tr th:only-of-type {\n",
              "        vertical-align: middle;\n",
              "    }\n",
              "\n",
              "    .dataframe tbody tr th {\n",
              "        vertical-align: top;\n",
              "    }\n",
              "\n",
              "    .dataframe thead th {\n",
              "        text-align: right;\n",
              "    }\n",
              "</style>\n",
              "<table border=\"1\" class=\"dataframe\">\n",
              "  <thead>\n",
              "    <tr style=\"text-align: right;\">\n",
              "      <th></th>\n",
              "      <th>0</th>\n",
              "      <th>1</th>\n",
              "      <th>2</th>\n",
              "      <th>3</th>\n",
              "      <th>4</th>\n",
              "    </tr>\n",
              "  </thead>\n",
              "  <tbody>\n",
              "    <tr>\n",
              "      <th>summary</th>\n",
              "      <td>count</td>\n",
              "      <td>mean</td>\n",
              "      <td>stddev</td>\n",
              "      <td>min</td>\n",
              "      <td>max</td>\n",
              "    </tr>\n",
              "    <tr>\n",
              "      <th>rowID</th>\n",
              "      <td>1587257</td>\n",
              "      <td>793628.0</td>\n",
              "      <td>458201.7724491034</td>\n",
              "      <td>0</td>\n",
              "      <td>1587256</td>\n",
              "    </tr>\n",
              "    <tr>\n",
              "      <th>air_pressure</th>\n",
              "      <td>1587257</td>\n",
              "      <td>916.8301266904355</td>\n",
              "      <td>3.0515931266797334</td>\n",
              "      <td>905.0</td>\n",
              "      <td>929.5</td>\n",
              "    </tr>\n",
              "    <tr>\n",
              "      <th>air_temp</th>\n",
              "      <td>1587257</td>\n",
              "      <td>61.85144042833238</td>\n",
              "      <td>11.833623786835483</td>\n",
              "      <td>31.64</td>\n",
              "      <td>99.5</td>\n",
              "    </tr>\n",
              "    <tr>\n",
              "      <th>avg_wind_direction</th>\n",
              "      <td>1586824</td>\n",
              "      <td>161.96537927331576</td>\n",
              "      <td>95.20811970204007</td>\n",
              "      <td>0.0</td>\n",
              "      <td>359.0</td>\n",
              "    </tr>\n",
              "    <tr>\n",
              "      <th>avg_wind_speed</th>\n",
              "      <td>1586824</td>\n",
              "      <td>2.774272067979729</td>\n",
              "      <td>2.060757793563034</td>\n",
              "      <td>0.0</td>\n",
              "      <td>32.3</td>\n",
              "    </tr>\n",
              "    <tr>\n",
              "      <th>max_wind_direction</th>\n",
              "      <td>1586824</td>\n",
              "      <td>163.40304784903682</td>\n",
              "      <td>92.3672342806411</td>\n",
              "      <td>0.0</td>\n",
              "      <td>359.0</td>\n",
              "    </tr>\n",
              "    <tr>\n",
              "      <th>max_wind_speed</th>\n",
              "      <td>1586824</td>\n",
              "      <td>3.3998134008569094</td>\n",
              "      <td>2.4231674336171545</td>\n",
              "      <td>0.1</td>\n",
              "      <td>36.0</td>\n",
              "    </tr>\n",
              "    <tr>\n",
              "      <th>min_wind_direction</th>\n",
              "      <td>1586824</td>\n",
              "      <td>166.82637078844283</td>\n",
              "      <td>97.4627462007766</td>\n",
              "      <td>0.0</td>\n",
              "      <td>359.0</td>\n",
              "    </tr>\n",
              "    <tr>\n",
              "      <th>min_wind_speed</th>\n",
              "      <td>1586824</td>\n",
              "      <td>2.1331304542923206</td>\n",
              "      <td>1.7453450849327021</td>\n",
              "      <td>0.0</td>\n",
              "      <td>32.0</td>\n",
              "    </tr>\n",
              "    <tr>\n",
              "      <th>rain_accumulation</th>\n",
              "      <td>1587256</td>\n",
              "      <td>0.0018548362708977345</td>\n",
              "      <td>0.9609715682155956</td>\n",
              "      <td>0.0</td>\n",
              "      <td>655.01</td>\n",
              "    </tr>\n",
              "    <tr>\n",
              "      <th>rain_duration</th>\n",
              "      <td>1587256</td>\n",
              "      <td>0.5361460281139274</td>\n",
              "      <td>81.1476564505365</td>\n",
              "      <td>0.0</td>\n",
              "      <td>63305.0</td>\n",
              "    </tr>\n",
              "    <tr>\n",
              "      <th>relative_humidity</th>\n",
              "      <td>1587257</td>\n",
              "      <td>47.60836877707868</td>\n",
              "      <td>26.21454390649868</td>\n",
              "      <td>0.7</td>\n",
              "      <td>93.0</td>\n",
              "    </tr>\n",
              "  </tbody>\n",
              "</table>\n",
              "</div>\n",
              "    <div class=\"colab-df-buttons\">\n",
              "\n",
              "  <div class=\"colab-df-container\">\n",
              "    <button class=\"colab-df-convert\" onclick=\"convertToInteractive('df-0fc4c811-dde9-41f1-b73d-3d3575d0923b')\"\n",
              "            title=\"Convert this dataframe to an interactive table.\"\n",
              "            style=\"display:none;\">\n",
              "\n",
              "  <svg xmlns=\"http://www.w3.org/2000/svg\" height=\"24px\" viewBox=\"0 -960 960 960\">\n",
              "    <path d=\"M120-120v-720h720v720H120Zm60-500h600v-160H180v160Zm220 220h160v-160H400v160Zm0 220h160v-160H400v160ZM180-400h160v-160H180v160Zm440 0h160v-160H620v160ZM180-180h160v-160H180v160Zm440 0h160v-160H620v160Z\"/>\n",
              "  </svg>\n",
              "    </button>\n",
              "\n",
              "  <style>\n",
              "    .colab-df-container {\n",
              "      display:flex;\n",
              "      gap: 12px;\n",
              "    }\n",
              "\n",
              "    .colab-df-convert {\n",
              "      background-color: #E8F0FE;\n",
              "      border: none;\n",
              "      border-radius: 50%;\n",
              "      cursor: pointer;\n",
              "      display: none;\n",
              "      fill: #1967D2;\n",
              "      height: 32px;\n",
              "      padding: 0 0 0 0;\n",
              "      width: 32px;\n",
              "    }\n",
              "\n",
              "    .colab-df-convert:hover {\n",
              "      background-color: #E2EBFA;\n",
              "      box-shadow: 0px 1px 2px rgba(60, 64, 67, 0.3), 0px 1px 3px 1px rgba(60, 64, 67, 0.15);\n",
              "      fill: #174EA6;\n",
              "    }\n",
              "\n",
              "    .colab-df-buttons div {\n",
              "      margin-bottom: 4px;\n",
              "    }\n",
              "\n",
              "    [theme=dark] .colab-df-convert {\n",
              "      background-color: #3B4455;\n",
              "      fill: #D2E3FC;\n",
              "    }\n",
              "\n",
              "    [theme=dark] .colab-df-convert:hover {\n",
              "      background-color: #434B5C;\n",
              "      box-shadow: 0px 1px 3px 1px rgba(0, 0, 0, 0.15);\n",
              "      filter: drop-shadow(0px 1px 2px rgba(0, 0, 0, 0.3));\n",
              "      fill: #FFFFFF;\n",
              "    }\n",
              "  </style>\n",
              "\n",
              "    <script>\n",
              "      const buttonEl =\n",
              "        document.querySelector('#df-0fc4c811-dde9-41f1-b73d-3d3575d0923b button.colab-df-convert');\n",
              "      buttonEl.style.display =\n",
              "        google.colab.kernel.accessAllowed ? 'block' : 'none';\n",
              "\n",
              "      async function convertToInteractive(key) {\n",
              "        const element = document.querySelector('#df-0fc4c811-dde9-41f1-b73d-3d3575d0923b');\n",
              "        const dataTable =\n",
              "          await google.colab.kernel.invokeFunction('convertToInteractive',\n",
              "                                                    [key], {});\n",
              "        if (!dataTable) return;\n",
              "\n",
              "        const docLinkHtml = 'Like what you see? Visit the ' +\n",
              "          '<a target=\"_blank\" href=https://colab.research.google.com/notebooks/data_table.ipynb>data table notebook</a>'\n",
              "          + ' to learn more about interactive tables.';\n",
              "        element.innerHTML = '';\n",
              "        dataTable['output_type'] = 'display_data';\n",
              "        await google.colab.output.renderOutput(dataTable, element);\n",
              "        const docLink = document.createElement('div');\n",
              "        docLink.innerHTML = docLinkHtml;\n",
              "        element.appendChild(docLink);\n",
              "      }\n",
              "    </script>\n",
              "  </div>\n",
              "\n",
              "\n",
              "<div id=\"df-40c7b387-3a8f-4244-92fc-7f7bd3ab118b\">\n",
              "  <button class=\"colab-df-quickchart\" onclick=\"quickchart('df-40c7b387-3a8f-4244-92fc-7f7bd3ab118b')\"\n",
              "            title=\"Suggest charts\"\n",
              "            style=\"display:none;\">\n",
              "\n",
              "<svg xmlns=\"http://www.w3.org/2000/svg\" height=\"24px\"viewBox=\"0 0 24 24\"\n",
              "     width=\"24px\">\n",
              "    <g>\n",
              "        <path d=\"M19 3H5c-1.1 0-2 .9-2 2v14c0 1.1.9 2 2 2h14c1.1 0 2-.9 2-2V5c0-1.1-.9-2-2-2zM9 17H7v-7h2v7zm4 0h-2V7h2v10zm4 0h-2v-4h2v4z\"/>\n",
              "    </g>\n",
              "</svg>\n",
              "  </button>\n",
              "\n",
              "<style>\n",
              "  .colab-df-quickchart {\n",
              "      --bg-color: #E8F0FE;\n",
              "      --fill-color: #1967D2;\n",
              "      --hover-bg-color: #E2EBFA;\n",
              "      --hover-fill-color: #174EA6;\n",
              "      --disabled-fill-color: #AAA;\n",
              "      --disabled-bg-color: #DDD;\n",
              "  }\n",
              "\n",
              "  [theme=dark] .colab-df-quickchart {\n",
              "      --bg-color: #3B4455;\n",
              "      --fill-color: #D2E3FC;\n",
              "      --hover-bg-color: #434B5C;\n",
              "      --hover-fill-color: #FFFFFF;\n",
              "      --disabled-bg-color: #3B4455;\n",
              "      --disabled-fill-color: #666;\n",
              "  }\n",
              "\n",
              "  .colab-df-quickchart {\n",
              "    background-color: var(--bg-color);\n",
              "    border: none;\n",
              "    border-radius: 50%;\n",
              "    cursor: pointer;\n",
              "    display: none;\n",
              "    fill: var(--fill-color);\n",
              "    height: 32px;\n",
              "    padding: 0;\n",
              "    width: 32px;\n",
              "  }\n",
              "\n",
              "  .colab-df-quickchart:hover {\n",
              "    background-color: var(--hover-bg-color);\n",
              "    box-shadow: 0 1px 2px rgba(60, 64, 67, 0.3), 0 1px 3px 1px rgba(60, 64, 67, 0.15);\n",
              "    fill: var(--button-hover-fill-color);\n",
              "  }\n",
              "\n",
              "  .colab-df-quickchart-complete:disabled,\n",
              "  .colab-df-quickchart-complete:disabled:hover {\n",
              "    background-color: var(--disabled-bg-color);\n",
              "    fill: var(--disabled-fill-color);\n",
              "    box-shadow: none;\n",
              "  }\n",
              "\n",
              "  .colab-df-spinner {\n",
              "    border: 2px solid var(--fill-color);\n",
              "    border-color: transparent;\n",
              "    border-bottom-color: var(--fill-color);\n",
              "    animation:\n",
              "      spin 1s steps(1) infinite;\n",
              "  }\n",
              "\n",
              "  @keyframes spin {\n",
              "    0% {\n",
              "      border-color: transparent;\n",
              "      border-bottom-color: var(--fill-color);\n",
              "      border-left-color: var(--fill-color);\n",
              "    }\n",
              "    20% {\n",
              "      border-color: transparent;\n",
              "      border-left-color: var(--fill-color);\n",
              "      border-top-color: var(--fill-color);\n",
              "    }\n",
              "    30% {\n",
              "      border-color: transparent;\n",
              "      border-left-color: var(--fill-color);\n",
              "      border-top-color: var(--fill-color);\n",
              "      border-right-color: var(--fill-color);\n",
              "    }\n",
              "    40% {\n",
              "      border-color: transparent;\n",
              "      border-right-color: var(--fill-color);\n",
              "      border-top-color: var(--fill-color);\n",
              "    }\n",
              "    60% {\n",
              "      border-color: transparent;\n",
              "      border-right-color: var(--fill-color);\n",
              "    }\n",
              "    80% {\n",
              "      border-color: transparent;\n",
              "      border-right-color: var(--fill-color);\n",
              "      border-bottom-color: var(--fill-color);\n",
              "    }\n",
              "    90% {\n",
              "      border-color: transparent;\n",
              "      border-bottom-color: var(--fill-color);\n",
              "    }\n",
              "  }\n",
              "</style>\n",
              "\n",
              "  <script>\n",
              "    async function quickchart(key) {\n",
              "      const quickchartButtonEl =\n",
              "        document.querySelector('#' + key + ' button');\n",
              "      quickchartButtonEl.disabled = true;  // To prevent multiple clicks.\n",
              "      quickchartButtonEl.classList.add('colab-df-spinner');\n",
              "      try {\n",
              "        const charts = await google.colab.kernel.invokeFunction(\n",
              "            'suggestCharts', [key], {});\n",
              "      } catch (error) {\n",
              "        console.error('Error during call to suggestCharts:', error);\n",
              "      }\n",
              "      quickchartButtonEl.classList.remove('colab-df-spinner');\n",
              "      quickchartButtonEl.classList.add('colab-df-quickchart-complete');\n",
              "    }\n",
              "    (() => {\n",
              "      let quickchartButtonEl =\n",
              "        document.querySelector('#df-40c7b387-3a8f-4244-92fc-7f7bd3ab118b button');\n",
              "      quickchartButtonEl.style.display =\n",
              "        google.colab.kernel.accessAllowed ? 'block' : 'none';\n",
              "    })();\n",
              "  </script>\n",
              "</div>\n",
              "\n",
              "    </div>\n",
              "  </div>\n"
            ],
            "application/vnd.google.colaboratory.intrinsic+json": {
              "type": "dataframe",
              "summary": "{\n  \"name\": \"df\",\n  \"rows\": 13,\n  \"fields\": [\n    {\n      \"column\": 0,\n      \"properties\": {\n        \"dtype\": \"category\",\n        \"num_unique_values\": 4,\n        \"samples\": [\n          \"1587257\",\n          \"1587256\",\n          \"count\"\n        ],\n        \"semantic_type\": \"\",\n        \"description\": \"\"\n      }\n    },\n    {\n      \"column\": 1,\n      \"properties\": {\n        \"dtype\": \"string\",\n        \"num_unique_values\": 13,\n        \"samples\": [\n          \"0.5361460281139274\",\n          \"2.1331304542923206\",\n          \"mean\"\n        ],\n        \"semantic_type\": \"\",\n        \"description\": \"\"\n      }\n    },\n    {\n      \"column\": 2,\n      \"properties\": {\n        \"dtype\": \"string\",\n        \"num_unique_values\": 13,\n        \"samples\": [\n          \"81.1476564505365\",\n          \"1.7453450849327021\",\n          \"stddev\"\n        ],\n        \"semantic_type\": \"\",\n        \"description\": \"\"\n      }\n    },\n    {\n      \"column\": 3,\n      \"properties\": {\n        \"dtype\": \"string\",\n        \"num_unique_values\": 7,\n        \"samples\": [\n          \"min\",\n          \"0\",\n          \"0.1\"\n        ],\n        \"semantic_type\": \"\",\n        \"description\": \"\"\n      }\n    },\n    {\n      \"column\": 4,\n      \"properties\": {\n        \"dtype\": \"string\",\n        \"num_unique_values\": 11,\n        \"samples\": [\n          \"32.3\",\n          \"max\",\n          \"63305.0\"\n        ],\n        \"semantic_type\": \"\",\n        \"description\": \"\"\n      }\n    }\n  ]\n}"
            }
          },
          "metadata": {},
          "execution_count": 12
        }
      ],
      "source": [
        "df.describe().toPandas().transpose()"
      ]
    },
    {
      "cell_type": "code",
      "execution_count": null,
      "metadata": {
        "id": "mf3GVJenwBGn"
      },
      "outputs": [],
      "source": [
        "#df.describe('air_pressure_9am').show()"
      ]
    },
    {
      "cell_type": "code",
      "execution_count": null,
      "metadata": {
        "id": "lfonE2o8wBGo",
        "colab": {
          "base_uri": "https://localhost:8080/"
        },
        "outputId": "d5cc53ba-5c33-4f6d-f2d0-b6d95365dcd4"
      },
      "outputs": [
        {
          "output_type": "execute_result",
          "data": {
            "text/plain": [
              "13"
            ]
          },
          "metadata": {},
          "execution_count": 14
        }
      ],
      "source": [
        "len(df.columns)"
      ]
    },
    {
      "cell_type": "code",
      "execution_count": null,
      "metadata": {
        "id": "FftXD3KOwBGo",
        "colab": {
          "base_uri": "https://localhost:8080/"
        },
        "outputId": "3726973a-58a4-4ff8-a7b2-07a0fcde4318"
      },
      "outputs": [
        {
          "output_type": "execute_result",
          "data": {
            "text/plain": [
              "1587257"
            ]
          },
          "metadata": {},
          "execution_count": 15
        }
      ],
      "source": [
        "df.count()"
      ]
    },
    {
      "cell_type": "code",
      "source": [
        "df = df.na.drop()"
      ],
      "metadata": {
        "id": "TBWa5Q-kw0oq"
      },
      "execution_count": null,
      "outputs": []
    },
    {
      "cell_type": "code",
      "source": [
        "df.count()"
      ],
      "metadata": {
        "colab": {
          "base_uri": "https://localhost:8080/"
        },
        "id": "MPGflpJGxTw_",
        "outputId": "3ca97595-2b41-477b-d2fe-082415f42f74"
      },
      "execution_count": null,
      "outputs": [
        {
          "output_type": "execute_result",
          "data": {
            "text/plain": [
              "1586823"
            ]
          },
          "metadata": {},
          "execution_count": 17
        }
      ]
    },
    {
      "cell_type": "code",
      "execution_count": null,
      "metadata": {
        "id": "yyp3pn-1wBGp",
        "colab": {
          "base_uri": "https://localhost:8080/"
        },
        "outputId": "760f5f86-f94f-497e-f8dc-22e6895d2073"
      },
      "outputs": [
        {
          "output_type": "execute_result",
          "data": {
            "text/plain": [
              "0.9850086439429298"
            ]
          },
          "metadata": {},
          "execution_count": 18
        }
      ],
      "source": [
        "df.stat.corr(\"avg_wind_speed\", \"max_wind_speed\")"
      ]
    },
    {
      "cell_type": "code",
      "source": [
        "df.stat.corr(\"avg_wind_speed\", \"min_wind_speed\")"
      ],
      "metadata": {
        "colab": {
          "base_uri": "https://localhost:8080/"
        },
        "id": "5ypbD-s1wYQu",
        "outputId": "a11dbf57-e9a4-4057-f9e9-3e9fbf9292c3"
      },
      "execution_count": null,
      "outputs": [
        {
          "output_type": "execute_result",
          "data": {
            "text/plain": [
              "0.970987039163073"
            ]
          },
          "metadata": {},
          "execution_count": 19
        }
      ]
    },
    {
      "cell_type": "code",
      "source": [
        "df.stat.corr(\"avg_wind_direction\", \"max_wind_direction\")"
      ],
      "metadata": {
        "colab": {
          "base_uri": "https://localhost:8080/"
        },
        "id": "zMF0rf-Ewpjt",
        "outputId": "6b781a98-45f1-4da9-9283-631a66ab164f"
      },
      "execution_count": null,
      "outputs": [
        {
          "output_type": "execute_result",
          "data": {
            "text/plain": [
              "0.7163162675632868"
            ]
          },
          "metadata": {},
          "execution_count": 20
        }
      ]
    },
    {
      "cell_type": "code",
      "source": [
        "df.stat.corr(\"avg_wind_direction\", \"min_wind_direction\")"
      ],
      "metadata": {
        "colab": {
          "base_uri": "https://localhost:8080/"
        },
        "id": "rVdw4LhqwifD",
        "outputId": "5abdcf3c-35b2-4b8f-bea5-0b9c92f35ab2"
      },
      "execution_count": null,
      "outputs": [
        {
          "output_type": "execute_result",
          "data": {
            "text/plain": [
              "0.6227626989594485"
            ]
          },
          "metadata": {},
          "execution_count": 21
        }
      ]
    },
    {
      "cell_type": "code",
      "source": [
        "df = df.drop('rowID')\n",
        "df = df.drop('hpwren_timestamp')"
      ],
      "metadata": {
        "id": "oWib9SgTwo3p"
      },
      "execution_count": null,
      "outputs": []
    },
    {
      "cell_type": "code",
      "source": [
        "df.show()"
      ],
      "metadata": {
        "colab": {
          "base_uri": "https://localhost:8080/"
        },
        "id": "09mxgPtVxn0Z",
        "outputId": "126633a0-1d57-40ba-dcf2-99e0cfb75f54"
      },
      "execution_count": null,
      "outputs": [
        {
          "output_type": "stream",
          "name": "stdout",
          "text": [
            "+------------+--------+------------------+--------------+------------------+--------------+------------------+--------------+-----------------+-------------+-----------------+\n",
            "|air_pressure|air_temp|avg_wind_direction|avg_wind_speed|max_wind_direction|max_wind_speed|min_wind_direction|min_wind_speed|rain_accumulation|rain_duration|relative_humidity|\n",
            "+------------+--------+------------------+--------------+------------------+--------------+------------------+--------------+-----------------+-------------+-----------------+\n",
            "|       912.3|   63.86|             161.0|           0.8|             215.0|           1.5|              43.0|           0.2|              0.0|          0.0|             39.9|\n",
            "|       912.3|   64.22|              77.0|           0.7|             143.0|           1.2|             324.0|           0.3|              0.0|          0.0|             43.0|\n",
            "|       912.3|    64.4|              89.0|           1.2|             112.0|           1.6|              12.0|           0.7|              0.0|          0.0|             49.5|\n",
            "|       912.3|    64.4|             185.0|           0.4|             260.0|           1.0|             100.0|           0.1|              0.0|          0.0|             58.8|\n",
            "|       912.3|    63.5|              76.0|           2.5|              92.0|           3.0|              61.0|           2.0|              0.0|          0.0|             62.6|\n",
            "|       912.3|   62.78|              79.0|           2.4|              89.0|           2.7|              62.0|           2.0|              0.0|          0.0|             65.6|\n",
            "|       912.3|   62.42|              86.0|           2.0|              92.0|           2.4|              75.0|           1.8|              0.0|          0.0|             65.2|\n",
            "|       912.3|   62.24|             105.0|           1.4|             125.0|           1.9|              82.0|           1.0|              0.0|          0.0|             65.8|\n",
            "|       912.3|   62.24|              93.0|           0.4|             126.0|           0.7|              14.0|           0.2|              0.0|          0.0|             58.6|\n",
            "|       912.3|   62.24|             144.0|           1.2|             167.0|           1.8|             115.0|           0.6|              0.0|          0.0|             38.5|\n",
            "|       912.2|   63.14|             105.0|           1.6|             126.0|           2.0|              92.0|           0.9|              0.0|          0.0|             42.6|\n",
            "|       912.2|   64.04|             116.0|           1.8|             143.0|           2.7|             104.0|           1.1|              0.0|          0.0|             45.3|\n",
            "|       912.2|    64.4|             142.0|           1.1|             200.0|           1.9|              93.0|           0.7|              0.0|          0.0|             36.1|\n",
            "|       912.2|   64.94|             150.0|           1.3|             173.0|           2.1|             117.0|           0.8|              0.0|          0.0|             33.2|\n",
            "|       912.2|   65.48|              90.0|           1.5|             100.0|           1.9|              80.0|           1.3|              0.0|          0.0|             45.2|\n",
            "|       912.3|   65.48|              91.0|           0.7|             168.0|           1.2|              26.0|           0.4|              0.0|          0.0|             55.9|\n",
            "|       912.3|   64.94|              77.0|           1.7|              91.0|           2.2|              55.0|           0.8|              0.0|          0.0|             60.5|\n",
            "|       912.3|   64.04|             107.0|           1.9|             116.0|           2.4|              95.0|           1.5|              0.0|          0.0|             61.8|\n",
            "|       912.2|   63.32|             109.0|           0.9|             119.0|           1.3|              98.0|           0.6|              0.0|          0.0|             56.0|\n",
            "|       912.2|   63.32|             100.0|           2.0|             122.0|           2.5|              91.0|           1.5|              0.0|          0.0|             58.3|\n",
            "+------------+--------+------------------+--------------+------------------+--------------+------------------+--------------+-----------------+-------------+-----------------+\n",
            "only showing top 20 rows\n",
            "\n"
          ]
        }
      ]
    },
    {
      "cell_type": "code",
      "source": [
        "# #drop high correlated column\n",
        "# for col in ['max_wind_direction','min_wind_direction','max_wind_speed','min_wind_speed']:\n",
        "#     df = df.drop(col) # Drop each column individually in a loop\n",
        "# df.show()"
      ],
      "metadata": {
        "id": "xooDSmhgxyKk"
      },
      "execution_count": null,
      "outputs": []
    },
    {
      "cell_type": "markdown",
      "metadata": {
        "id": "HmX1U1HX2i3n"
      },
      "source": [
        "#  Regression"
      ]
    },
    {
      "cell_type": "code",
      "execution_count": null,
      "metadata": {
        "id": "ElV2ZP113G1R"
      },
      "outputs": [],
      "source": [
        "from pyspark.sql import DataFrameNaFunctions\n",
        "from pyspark.ml.feature import VectorAssembler"
      ]
    },
    {
      "cell_type": "code",
      "execution_count": null,
      "metadata": {
        "id": "sh5Qm70Gggxu",
        "colab": {
          "base_uri": "https://localhost:8080/"
        },
        "outputId": "2beed961-1c1a-4a9f-9edf-d653ae778b5f"
      },
      "outputs": [
        {
          "output_type": "execute_result",
          "data": {
            "text/plain": [
              "(1586823, 11)"
            ]
          },
          "metadata": {},
          "execution_count": 26
        }
      ],
      "source": [
        "df.count(), len(df.columns)"
      ]
    },
    {
      "cell_type": "code",
      "execution_count": null,
      "metadata": {
        "id": "bS6X46ZgVHAo",
        "colab": {
          "base_uri": "https://localhost:8080/"
        },
        "outputId": "e3190ed6-9acf-4551-e18f-8df333e432c7"
      },
      "outputs": [
        {
          "output_type": "execute_result",
          "data": {
            "text/plain": [
              "['air_pressure',\n",
              " 'air_temp',\n",
              " 'avg_wind_direction',\n",
              " 'avg_wind_speed',\n",
              " 'max_wind_direction',\n",
              " 'max_wind_speed',\n",
              " 'min_wind_direction',\n",
              " 'min_wind_speed',\n",
              " 'rain_accumulation',\n",
              " 'rain_duration',\n",
              " 'relative_humidity']"
            ]
          },
          "metadata": {},
          "execution_count": 27
        }
      ],
      "source": [
        "df.columns"
      ]
    },
    {
      "cell_type": "code",
      "execution_count": null,
      "metadata": {
        "id": "ktPd8SpG76hy"
      },
      "outputs": [],
      "source": [
        "featureColumns =df.columns[:-1]"
      ]
    },
    {
      "cell_type": "code",
      "execution_count": null,
      "metadata": {
        "id": "x6Q7g9314jBt",
        "colab": {
          "base_uri": "https://localhost:8080/"
        },
        "outputId": "a3eced76-e86b-470a-8d66-78f2523dc876"
      },
      "outputs": [
        {
          "output_type": "execute_result",
          "data": {
            "text/plain": [
              "['air_pressure',\n",
              " 'air_temp',\n",
              " 'avg_wind_direction',\n",
              " 'avg_wind_speed',\n",
              " 'max_wind_direction',\n",
              " 'max_wind_speed',\n",
              " 'min_wind_direction',\n",
              " 'min_wind_speed',\n",
              " 'rain_accumulation',\n",
              " 'rain_duration']"
            ]
          },
          "metadata": {},
          "execution_count": 29
        }
      ],
      "source": [
        "featureColumns"
      ]
    },
    {
      "cell_type": "code",
      "execution_count": null,
      "metadata": {
        "id": "FEm523ct2sab"
      },
      "outputs": [],
      "source": [
        "assembler = VectorAssembler(inputCols=featureColumns, outputCol=\"features\")\n",
        "assembled = assembler.transform(df)"
      ]
    },
    {
      "cell_type": "code",
      "execution_count": null,
      "metadata": {
        "id": "sx7TeYw6VT3D",
        "colab": {
          "base_uri": "https://localhost:8080/"
        },
        "outputId": "40ebfb19-1f9d-472f-ea7e-cd9fddef27f4"
      },
      "outputs": [
        {
          "output_type": "stream",
          "name": "stdout",
          "text": [
            "+------------+--------+------------------+--------------+------------------+--------------+------------------+--------------+-----------------+-------------+-----------------+--------------------+\n",
            "|air_pressure|air_temp|avg_wind_direction|avg_wind_speed|max_wind_direction|max_wind_speed|min_wind_direction|min_wind_speed|rain_accumulation|rain_duration|relative_humidity|            features|\n",
            "+------------+--------+------------------+--------------+------------------+--------------+------------------+--------------+-----------------+-------------+-----------------+--------------------+\n",
            "|       912.3|   63.86|             161.0|           0.8|             215.0|           1.5|              43.0|           0.2|              0.0|          0.0|             39.9|[912.3,63.86,161....|\n",
            "|       912.3|   64.22|              77.0|           0.7|             143.0|           1.2|             324.0|           0.3|              0.0|          0.0|             43.0|[912.3,64.22,77.0...|\n",
            "|       912.3|    64.4|              89.0|           1.2|             112.0|           1.6|              12.0|           0.7|              0.0|          0.0|             49.5|[912.3,64.4,89.0,...|\n",
            "|       912.3|    64.4|             185.0|           0.4|             260.0|           1.0|             100.0|           0.1|              0.0|          0.0|             58.8|[912.3,64.4,185.0...|\n",
            "|       912.3|    63.5|              76.0|           2.5|              92.0|           3.0|              61.0|           2.0|              0.0|          0.0|             62.6|[912.3,63.5,76.0,...|\n",
            "|       912.3|   62.78|              79.0|           2.4|              89.0|           2.7|              62.0|           2.0|              0.0|          0.0|             65.6|[912.3,62.78,79.0...|\n",
            "|       912.3|   62.42|              86.0|           2.0|              92.0|           2.4|              75.0|           1.8|              0.0|          0.0|             65.2|[912.3,62.42,86.0...|\n",
            "|       912.3|   62.24|             105.0|           1.4|             125.0|           1.9|              82.0|           1.0|              0.0|          0.0|             65.8|[912.3,62.24,105....|\n",
            "|       912.3|   62.24|              93.0|           0.4|             126.0|           0.7|              14.0|           0.2|              0.0|          0.0|             58.6|[912.3,62.24,93.0...|\n",
            "|       912.3|   62.24|             144.0|           1.2|             167.0|           1.8|             115.0|           0.6|              0.0|          0.0|             38.5|[912.3,62.24,144....|\n",
            "+------------+--------+------------------+--------------+------------------+--------------+------------------+--------------+-----------------+-------------+-----------------+--------------------+\n",
            "only showing top 10 rows\n",
            "\n"
          ]
        }
      ],
      "source": [
        "assembled.show(10)"
      ]
    },
    {
      "cell_type": "code",
      "source": [
        "select_assembled=assembled.select(\"relative_humidity\",\"features\")\n",
        "select_assembled=select_assembled.withColumnRenamed(\"relative_humidity\",\"label\")"
      ],
      "metadata": {
        "id": "LfsZ6RKZbB9_"
      },
      "execution_count": null,
      "outputs": []
    },
    {
      "cell_type": "code",
      "execution_count": null,
      "metadata": {
        "id": "TFmGmVU72tnv"
      },
      "outputs": [],
      "source": [
        "(trainData, testData) = select_assembled.randomSplit([0.8,0.2], seed = 13234 )"
      ]
    },
    {
      "cell_type": "code",
      "execution_count": null,
      "metadata": {
        "id": "gaZkw9Pi2uzu",
        "colab": {
          "base_uri": "https://localhost:8080/"
        },
        "outputId": "862a946f-6cb7-4ab8-cfe7-3077e82ef8f2"
      },
      "outputs": [
        {
          "output_type": "execute_result",
          "data": {
            "text/plain": [
              "(1269970, 316853)"
            ]
          },
          "metadata": {},
          "execution_count": 34
        }
      ],
      "source": [
        "trainData.count(),testData.count()"
      ]
    },
    {
      "cell_type": "code",
      "execution_count": null,
      "metadata": {
        "id": "Tm3VSlxNWCqf"
      },
      "outputs": [],
      "source": [
        "from pyspark.ml.regression import LinearRegression\n"
      ]
    },
    {
      "cell_type": "code",
      "execution_count": null,
      "metadata": {
        "id": "4X_NYmUzYr3y",
        "colab": {
          "base_uri": "https://localhost:8080/"
        },
        "outputId": "a757d8cb-6cda-4464-a1dc-b19f8a234fcc"
      },
      "outputs": [
        {
          "output_type": "stream",
          "name": "stdout",
          "text": [
            "+-----+--------------------+\n",
            "|label|            features|\n",
            "+-----+--------------------+\n",
            "|  1.4|[923.2,52.88,17.0...|\n",
            "|  1.4|[923.3,52.52,18.0...|\n",
            "|  1.4|[923.3,52.52,18.0...|\n",
            "|  1.4|[923.3,52.7,15.0,...|\n",
            "|  1.4|[924.0,52.16,21.0...|\n",
            "|  1.4|[924.0,52.34,57.0...|\n",
            "|  1.4|[924.0,52.52,20.0...|\n",
            "|  1.4|[924.0,53.06,22.0...|\n",
            "|  1.5|[918.1,65.84,179....|\n",
            "|  1.5|[923.2,52.88,26.0...|\n",
            "|  1.5|[923.2,53.06,16.0...|\n",
            "|  1.5|[923.2,53.06,19.0...|\n",
            "|  1.5|[923.3,52.52,29.0...|\n",
            "|  1.5|[924.0,52.16,16.0...|\n",
            "|  1.5|[924.0,52.34,16.0...|\n",
            "|  1.5|[924.0,52.7,15.0,...|\n",
            "|  1.5|[924.0,53.06,25.0...|\n",
            "|  1.5|[924.0,53.24,9.0,...|\n",
            "|  1.6|[918.1,65.84,176....|\n",
            "|  1.6|[923.2,52.7,101.0...|\n",
            "+-----+--------------------+\n",
            "only showing top 20 rows\n",
            "\n"
          ]
        }
      ],
      "source": [
        "trainData.show()"
      ]
    },
    {
      "cell_type": "code",
      "execution_count": null,
      "metadata": {
        "id": "AyEDur8n7EKW",
        "colab": {
          "base_uri": "https://localhost:8080/"
        },
        "outputId": "5eb7a698-db9d-4cca-afb4-1ffc47b1579d"
      },
      "outputs": [
        {
          "output_type": "stream",
          "name": "stdout",
          "text": [
            "+-----+--------------------+\n",
            "|label|            features|\n",
            "+-----+--------------------+\n",
            "|  1.5|[923.2,52.88,4.0,...|\n",
            "|  1.5|[924.0,52.88,23.0...|\n",
            "|  1.5|[924.0,53.06,27.0...|\n",
            "|  1.5|[924.0,53.24,17.0...|\n",
            "|  1.6|[923.2,53.06,17.0...|\n",
            "|  1.6|[923.3,52.52,50.0...|\n",
            "|  1.7|[917.2,77.18,356....|\n",
            "|  1.7|[917.2,77.36,341....|\n",
            "|  1.7|[917.7,65.12,210....|\n",
            "|  1.7|[917.9,64.94,207....|\n",
            "|  1.7|[918.6,78.08,30.0...|\n",
            "|  1.7|[924.3,53.06,36.0...|\n",
            "|  1.8|[916.9,63.68,128....|\n",
            "|  1.8|[917.2,77.0,343.0...|\n",
            "|  1.8|[917.2,77.54,0.0,...|\n",
            "|  1.8|[917.2,77.54,3.0,...|\n",
            "|  1.8|[917.2,77.54,331....|\n",
            "|  1.8|[917.2,77.54,346....|\n",
            "|  1.8|[917.3,77.18,359....|\n",
            "|  1.8|[917.3,77.36,340....|\n",
            "+-----+--------------------+\n",
            "only showing top 20 rows\n",
            "\n"
          ]
        }
      ],
      "source": [
        "testData.show()"
      ]
    },
    {
      "cell_type": "code",
      "execution_count": null,
      "metadata": {
        "id": "sEogJ5JiaItX"
      },
      "outputs": [],
      "source": [
        "lr = LinearRegression()\n"
      ]
    },
    {
      "cell_type": "code",
      "execution_count": null,
      "metadata": {
        "id": "ewFec9G6YDO9"
      },
      "outputs": [],
      "source": [
        "model1 = lr.fit(trainData)\n"
      ]
    },
    {
      "cell_type": "code",
      "execution_count": null,
      "metadata": {
        "id": "_Fr9J3yTVtWS",
        "colab": {
          "base_uri": "https://localhost:8080/"
        },
        "outputId": "5efadb33-ea5c-40c8-8484-24d123ddb507"
      },
      "outputs": [
        {
          "output_type": "stream",
          "name": "stdout",
          "text": [
            "Coefficients: [-2.704714514629627,-1.3745025238590267,0.010435642037595607,1.2916432775746927,0.030109846776819636,-2.5167563790933984,0.007688226234587475,0.5654703023674562,-0.2728730955700857,0.003306293317095326]\n",
            "Intercept: 2608.263072102212\n"
          ]
        }
      ],
      "source": [
        "print(\"Coefficients: %s\" % str(model1.coefficients))\n",
        "print(\"Intercept: %s\" % str(model1.intercept))"
      ]
    },
    {
      "cell_type": "code",
      "execution_count": null,
      "metadata": {
        "colab": {
          "base_uri": "https://localhost:8080/"
        },
        "id": "JSGbbU6iYANX",
        "outputId": "3367a1ee-2c89-45cc-8563-4992baef0cd0"
      },
      "outputs": [
        {
          "output_type": "stream",
          "name": "stdout",
          "text": [
            "numIterations: 0\n",
            "objectiveHistory: [0.0]\n",
            "+-------------------+\n",
            "|          residuals|\n",
            "+-------------------+\n",
            "|-37.153869506928096|\n",
            "| -37.61583670041464|\n",
            "|-37.420708092741826|\n",
            "|-36.862542523775666|\n",
            "| -36.52984158687841|\n",
            "|-37.590904058900016|\n",
            "|-35.186753739778034|\n",
            "| -34.97215222702253|\n",
            "|-40.941532554883906|\n",
            "|-37.402616647066225|\n",
            "| -36.44935961127658|\n",
            "|-36.900211501525064|\n",
            "| -38.01137372501489|\n",
            "| -36.32060157146407|\n",
            "|-35.297045461522885|\n",
            "|-34.990982332352814|\n",
            "| -35.34081636760038|\n",
            "| -33.91191874005608|\n",
            "| -40.56766708197883|\n",
            "| -41.60798449957101|\n",
            "+-------------------+\n",
            "only showing top 20 rows\n",
            "\n",
            "RMSE: 17.811709\n",
            "r2: 0.537880\n"
          ]
        }
      ],
      "source": [
        "trainingSummary = model1.summary\n",
        "print(\"numIterations: %d\" % trainingSummary.totalIterations)\n",
        "print(\"objectiveHistory: %s\" % str(trainingSummary.objectiveHistory))\n",
        "trainingSummary.residuals.show()\n",
        "print(\"RMSE: %f\" % trainingSummary.rootMeanSquaredError)\n",
        "print(\"r2: %f\" % trainingSummary.r2)"
      ]
    },
    {
      "cell_type": "code",
      "execution_count": null,
      "metadata": {
        "id": "zCtPT2jfcP9Q"
      },
      "outputs": [],
      "source": [
        "predictions = model1.transform(testData)"
      ]
    },
    {
      "cell_type": "code",
      "execution_count": null,
      "metadata": {
        "colab": {
          "base_uri": "https://localhost:8080/"
        },
        "id": "n0-NxyHPcSzH",
        "outputId": "e7629c23-ff2c-489b-9421-1518f228e532"
      },
      "outputs": [
        {
          "output_type": "stream",
          "name": "stdout",
          "text": [
            "+-----+--------------------+------------------+\n",
            "|label|            features|        prediction|\n",
            "+-----+--------------------+------------------+\n",
            "|  1.5|[923.2,52.88,4.0,...| 37.95694105806797|\n",
            "|  1.5|[924.0,52.88,23.0...| 36.80996509498755|\n",
            "|  1.5|[924.0,53.06,27.0...|36.548706354930346|\n",
            "|  1.5|[924.0,53.24,17.0...| 36.12380891353587|\n",
            "|  1.6|[923.2,53.06,17.0...|38.221102757330755|\n",
            "|  1.6|[923.3,52.52,50.0...|41.081942758492005|\n",
            "|  1.7|[917.2,77.18,356....| 26.19375166611826|\n",
            "|  1.7|[917.2,77.36,341....| 35.96233988700078|\n",
            "|  1.7|[917.7,65.12,210....| 46.22369581055864|\n",
            "|  1.7|[917.9,64.94,207....| 45.49516791366068|\n",
            "|  1.7|[918.6,78.08,30.0...|15.924435596208696|\n",
            "|  1.7|[924.3,53.06,36.0...| 36.60254253996254|\n",
            "|  1.8|[916.9,63.68,128....|46.741937062555735|\n",
            "|  1.8|[917.2,77.0,343.0...| 35.83725856534875|\n",
            "|  1.8|[917.2,77.54,0.0,...| 21.99347405825256|\n",
            "|  1.8|[917.2,77.54,3.0,...|22.039176483111987|\n",
            "|  1.8|[917.2,77.54,331....|  35.4182665578187|\n",
            "|  1.8|[917.2,77.54,346....|35.559883095601435|\n",
            "|  1.8|[917.3,77.18,359....|26.310803773890257|\n",
            "|  1.8|[917.3,77.36,340....| 36.02361550577916|\n",
            "+-----+--------------------+------------------+\n",
            "only showing top 20 rows\n",
            "\n"
          ]
        }
      ],
      "source": [
        "predictions.show()"
      ]
    },
    {
      "cell_type": "code",
      "source": [
        "from pyspark.ml.evaluation import RegressionEvaluator\n",
        "\n",
        "# Change predictionCol to 'prediction'\n",
        "Evaluator = RegressionEvaluator(labelCol=\"label\", predictionCol='prediction', metricName='rmse')\n",
        "\n",
        "rmse = Evaluator.evaluate(predictions)\n",
        "print(\"RMSE: %.3f\" % rmse)"
      ],
      "metadata": {
        "colab": {
          "base_uri": "https://localhost:8080/"
        },
        "id": "cqdawcrzs4YT",
        "outputId": "991260c8-8406-4ec5-de9c-0dbaa1c1e688"
      },
      "execution_count": null,
      "outputs": [
        {
          "output_type": "stream",
          "name": "stdout",
          "text": [
            "RMSE: 17.840\n"
          ]
        }
      ]
    },
    {
      "cell_type": "code",
      "execution_count": null,
      "metadata": {
        "id": "NZpZEfWNF03K"
      },
      "outputs": [],
      "source": [
        "#sc.stop()"
      ]
    },
    {
      "cell_type": "code",
      "execution_count": null,
      "metadata": {
        "id": "7hhYSZboG22_"
      },
      "outputs": [],
      "source": []
    }
  ],
  "metadata": {
    "colab": {
      "provenance": []
    },
    "kernelspec": {
      "display_name": "Python 3",
      "language": "python",
      "name": "python3"
    },
    "language_info": {
      "codemirror_mode": {
        "name": "ipython",
        "version": 3
      },
      "file_extension": ".py",
      "mimetype": "text/x-python",
      "name": "python",
      "nbconvert_exporter": "python",
      "pygments_lexer": "ipython3",
      "version": "3.5.1"
    }
  },
  "nbformat": 4,
  "nbformat_minor": 0
}