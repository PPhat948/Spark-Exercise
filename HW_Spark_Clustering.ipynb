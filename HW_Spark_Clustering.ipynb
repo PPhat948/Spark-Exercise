{
  "cells": [
    {
      "cell_type": "code",
      "source": [
        "# Installing required packages\n",
        "!pip install pyspark\n",
        "!pip install findspark\n"
      ],
      "metadata": {
        "colab": {
          "base_uri": "https://localhost:8080/"
        },
        "id": "IivSU4q08cjS",
        "outputId": "3aab0ee0-5a80-4965-8ad3-9de873c2a3f0"
      },
      "execution_count": null,
      "outputs": [
        {
          "output_type": "stream",
          "name": "stdout",
          "text": [
            "Requirement already satisfied: pyspark in /usr/local/lib/python3.11/dist-packages (3.5.5)\n",
            "Requirement already satisfied: py4j==0.10.9.7 in /usr/local/lib/python3.11/dist-packages (from pyspark) (0.10.9.7)\n",
            "Collecting findspark\n",
            "  Downloading findspark-2.0.1-py2.py3-none-any.whl.metadata (352 bytes)\n",
            "Downloading findspark-2.0.1-py2.py3-none-any.whl (4.4 kB)\n",
            "Installing collected packages: findspark\n",
            "Successfully installed findspark-2.0.1\n"
          ]
        }
      ]
    },
    {
      "cell_type": "code",
      "execution_count": null,
      "metadata": {
        "id": "iS7XsrwO7w8k"
      },
      "outputs": [],
      "source": [
        "from pyspark import SparkContext, SparkConf\n",
        "from pyspark.sql import SparkSession\n",
        "from pyspark.sql import SQLContext"
      ]
    },
    {
      "cell_type": "markdown",
      "source": [
        "##  Load the data\n"
      ],
      "metadata": {
        "id": "4kIvHOG3EMVk"
      }
    },
    {
      "cell_type": "code",
      "source": [
        "spark = SparkSession \\\n",
        "    .builder \\\n",
        "    .appName(\"clustering\") \\\n",
        "    .getOrCreate()\n"
      ],
      "metadata": {
        "id": "y8dLqnYyHNbm"
      },
      "execution_count": null,
      "outputs": []
    },
    {
      "cell_type": "code",
      "source": [
        "sqlContext = SQLContext(spark)"
      ],
      "metadata": {
        "id": "GyZ9J4_0rwlh",
        "colab": {
          "base_uri": "https://localhost:8080/"
        },
        "outputId": "7cc4a6ff-bdfe-4094-b1c2-5267f99d89b6"
      },
      "execution_count": null,
      "outputs": [
        {
          "output_type": "stream",
          "name": "stderr",
          "text": [
            "/usr/local/lib/python3.11/dist-packages/pyspark/sql/context.py:113: FutureWarning: Deprecated in 3.0.0. Use SparkSession.builder.getOrCreate() instead.\n",
            "  warnings.warn(\n"
          ]
        }
      ]
    },
    {
      "cell_type": "markdown",
      "source": [
        "## Select input data"
      ],
      "metadata": {
        "id": "uvP-etkbErLC"
      }
    },
    {
      "cell_type": "code",
      "source": [
        "from google.colab import files\n",
        "\n",
        "\n",
        "uploaded = files.upload()"
      ],
      "metadata": {
        "colab": {
          "base_uri": "https://localhost:8080/",
          "height": 107
        },
        "id": "teTBkJyJw5Jm",
        "outputId": "4b2f24ce-fe7e-44ac-c73e-933b7bb021f0"
      },
      "execution_count": null,
      "outputs": [
        {
          "output_type": "display_data",
          "data": {
            "text/plain": [
              "<IPython.core.display.HTML object>"
            ],
            "text/html": [
              "\n",
              "     <input type=\"file\" id=\"files-0251d490-29da-4b5e-bee1-64bc289312cc\" name=\"files[]\" multiple disabled\n",
              "        style=\"border:none\" />\n",
              "     <output id=\"result-0251d490-29da-4b5e-bee1-64bc289312cc\">\n",
              "      Upload widget is only available when the cell has been executed in the\n",
              "      current browser session. Please rerun this cell to enable.\n",
              "      </output>\n",
              "      <script>// Copyright 2017 Google LLC\n",
              "//\n",
              "// Licensed under the Apache License, Version 2.0 (the \"License\");\n",
              "// you may not use this file except in compliance with the License.\n",
              "// You may obtain a copy of the License at\n",
              "//\n",
              "//      http://www.apache.org/licenses/LICENSE-2.0\n",
              "//\n",
              "// Unless required by applicable law or agreed to in writing, software\n",
              "// distributed under the License is distributed on an \"AS IS\" BASIS,\n",
              "// WITHOUT WARRANTIES OR CONDITIONS OF ANY KIND, either express or implied.\n",
              "// See the License for the specific language governing permissions and\n",
              "// limitations under the License.\n",
              "\n",
              "/**\n",
              " * @fileoverview Helpers for google.colab Python module.\n",
              " */\n",
              "(function(scope) {\n",
              "function span(text, styleAttributes = {}) {\n",
              "  const element = document.createElement('span');\n",
              "  element.textContent = text;\n",
              "  for (const key of Object.keys(styleAttributes)) {\n",
              "    element.style[key] = styleAttributes[key];\n",
              "  }\n",
              "  return element;\n",
              "}\n",
              "\n",
              "// Max number of bytes which will be uploaded at a time.\n",
              "const MAX_PAYLOAD_SIZE = 100 * 1024;\n",
              "\n",
              "function _uploadFiles(inputId, outputId) {\n",
              "  const steps = uploadFilesStep(inputId, outputId);\n",
              "  const outputElement = document.getElementById(outputId);\n",
              "  // Cache steps on the outputElement to make it available for the next call\n",
              "  // to uploadFilesContinue from Python.\n",
              "  outputElement.steps = steps;\n",
              "\n",
              "  return _uploadFilesContinue(outputId);\n",
              "}\n",
              "\n",
              "// This is roughly an async generator (not supported in the browser yet),\n",
              "// where there are multiple asynchronous steps and the Python side is going\n",
              "// to poll for completion of each step.\n",
              "// This uses a Promise to block the python side on completion of each step,\n",
              "// then passes the result of the previous step as the input to the next step.\n",
              "function _uploadFilesContinue(outputId) {\n",
              "  const outputElement = document.getElementById(outputId);\n",
              "  const steps = outputElement.steps;\n",
              "\n",
              "  const next = steps.next(outputElement.lastPromiseValue);\n",
              "  return Promise.resolve(next.value.promise).then((value) => {\n",
              "    // Cache the last promise value to make it available to the next\n",
              "    // step of the generator.\n",
              "    outputElement.lastPromiseValue = value;\n",
              "    return next.value.response;\n",
              "  });\n",
              "}\n",
              "\n",
              "/**\n",
              " * Generator function which is called between each async step of the upload\n",
              " * process.\n",
              " * @param {string} inputId Element ID of the input file picker element.\n",
              " * @param {string} outputId Element ID of the output display.\n",
              " * @return {!Iterable<!Object>} Iterable of next steps.\n",
              " */\n",
              "function* uploadFilesStep(inputId, outputId) {\n",
              "  const inputElement = document.getElementById(inputId);\n",
              "  inputElement.disabled = false;\n",
              "\n",
              "  const outputElement = document.getElementById(outputId);\n",
              "  outputElement.innerHTML = '';\n",
              "\n",
              "  const pickedPromise = new Promise((resolve) => {\n",
              "    inputElement.addEventListener('change', (e) => {\n",
              "      resolve(e.target.files);\n",
              "    });\n",
              "  });\n",
              "\n",
              "  const cancel = document.createElement('button');\n",
              "  inputElement.parentElement.appendChild(cancel);\n",
              "  cancel.textContent = 'Cancel upload';\n",
              "  const cancelPromise = new Promise((resolve) => {\n",
              "    cancel.onclick = () => {\n",
              "      resolve(null);\n",
              "    };\n",
              "  });\n",
              "\n",
              "  // Wait for the user to pick the files.\n",
              "  const files = yield {\n",
              "    promise: Promise.race([pickedPromise, cancelPromise]),\n",
              "    response: {\n",
              "      action: 'starting',\n",
              "    }\n",
              "  };\n",
              "\n",
              "  cancel.remove();\n",
              "\n",
              "  // Disable the input element since further picks are not allowed.\n",
              "  inputElement.disabled = true;\n",
              "\n",
              "  if (!files) {\n",
              "    return {\n",
              "      response: {\n",
              "        action: 'complete',\n",
              "      }\n",
              "    };\n",
              "  }\n",
              "\n",
              "  for (const file of files) {\n",
              "    const li = document.createElement('li');\n",
              "    li.append(span(file.name, {fontWeight: 'bold'}));\n",
              "    li.append(span(\n",
              "        `(${file.type || 'n/a'}) - ${file.size} bytes, ` +\n",
              "        `last modified: ${\n",
              "            file.lastModifiedDate ? file.lastModifiedDate.toLocaleDateString() :\n",
              "                                    'n/a'} - `));\n",
              "    const percent = span('0% done');\n",
              "    li.appendChild(percent);\n",
              "\n",
              "    outputElement.appendChild(li);\n",
              "\n",
              "    const fileDataPromise = new Promise((resolve) => {\n",
              "      const reader = new FileReader();\n",
              "      reader.onload = (e) => {\n",
              "        resolve(e.target.result);\n",
              "      };\n",
              "      reader.readAsArrayBuffer(file);\n",
              "    });\n",
              "    // Wait for the data to be ready.\n",
              "    let fileData = yield {\n",
              "      promise: fileDataPromise,\n",
              "      response: {\n",
              "        action: 'continue',\n",
              "      }\n",
              "    };\n",
              "\n",
              "    // Use a chunked sending to avoid message size limits. See b/62115660.\n",
              "    let position = 0;\n",
              "    do {\n",
              "      const length = Math.min(fileData.byteLength - position, MAX_PAYLOAD_SIZE);\n",
              "      const chunk = new Uint8Array(fileData, position, length);\n",
              "      position += length;\n",
              "\n",
              "      const base64 = btoa(String.fromCharCode.apply(null, chunk));\n",
              "      yield {\n",
              "        response: {\n",
              "          action: 'append',\n",
              "          file: file.name,\n",
              "          data: base64,\n",
              "        },\n",
              "      };\n",
              "\n",
              "      let percentDone = fileData.byteLength === 0 ?\n",
              "          100 :\n",
              "          Math.round((position / fileData.byteLength) * 100);\n",
              "      percent.textContent = `${percentDone}% done`;\n",
              "\n",
              "    } while (position < fileData.byteLength);\n",
              "  }\n",
              "\n",
              "  // All done.\n",
              "  yield {\n",
              "    response: {\n",
              "      action: 'complete',\n",
              "    }\n",
              "  };\n",
              "}\n",
              "\n",
              "scope.google = scope.google || {};\n",
              "scope.google.colab = scope.google.colab || {};\n",
              "scope.google.colab._files = {\n",
              "  _uploadFiles,\n",
              "  _uploadFilesContinue,\n",
              "};\n",
              "})(self);\n",
              "</script> "
            ]
          },
          "metadata": {}
        },
        {
          "output_type": "stream",
          "name": "stdout",
          "text": [
            "Saving drybeans.csv to drybeans.csv\n",
            "Saving ch9 (1).pptx to ch9 (1).pptx\n"
          ]
        }
      ]
    },
    {
      "cell_type": "code",
      "source": [
        "file='drybeans.csv'\n",
        "\n",
        "df = sqlContext.read.load(file,\n",
        "                          format='com.databricks.spark.csv',\n",
        "                          header='true',inferSchema='true')"
      ],
      "metadata": {
        "id": "JPvgjLswDLuX"
      },
      "execution_count": null,
      "outputs": []
    },
    {
      "cell_type": "code",
      "execution_count": null,
      "metadata": {
        "colab": {
          "base_uri": "https://localhost:8080/"
        },
        "id": "pLwztrkz7w8o",
        "outputId": "ceb6609d-e404-404f-ad1c-48cd21a64f33"
      },
      "outputs": [
        {
          "output_type": "execute_result",
          "data": {
            "text/plain": [
              "13611"
            ]
          },
          "metadata": {},
          "execution_count": 7
        }
      ],
      "source": [
        "df.count()"
      ]
    },
    {
      "cell_type": "code",
      "execution_count": null,
      "metadata": {
        "scrolled": true,
        "id": "yqIr_Udu7w8p",
        "colab": {
          "base_uri": "https://localhost:8080/",
          "height": 614
        },
        "outputId": "1ac6133c-0787-4720-f12f-b5c462f62077"
      },
      "outputs": [
        {
          "output_type": "execute_result",
          "data": {
            "text/plain": [
              "                     0                     1                      2  \\\n",
              "summary          count                  mean                 stddev   \n",
              "Area             13611    53048.284549261625      29324.09571688207   \n",
              "Perimeter        13611     855.2834585996654     214.28969589196151   \n",
              "MajorAxisLength  13611     320.1418673032194       85.6941859593335   \n",
              "MinorAxisLength  13611     202.2707140828817      44.97009129411471   \n",
              "AspectRation     13611    1.5832419790188144    0.24667845568580432   \n",
              "Eccentricity     13611     0.750894929372346    0.09200176320620888   \n",
              "ConvexArea       13611     53768.20020571596     29774.915817000012   \n",
              "EquivDiameter    13611    253.06421992490445      59.17712014871156   \n",
              "Extent           13611    0.7497327873564055   0.049086366843964224   \n",
              "Solidity         13611    0.9871428435655719      0.004660379169838   \n",
              "roundness        13611     0.873281831305413    0.05951988794941863   \n",
              "Compactness      13611    0.7998636818695875    0.06171346311682412   \n",
              "ShapeFactor1     13611  0.006563608507383666  0.0011279982248070671   \n",
              "ShapeFactor2     13611  0.001715947338917041   5.958748528937661E-4   \n",
              "ShapeFactor3     13611    0.6435901812970417      0.098996150476599   \n",
              "ShapeFactor4     13611    0.9950633118301326   0.004366457746633824   \n",
              "Class            13611                  None                   None   \n",
              "\n",
              "                           3            4  \n",
              "summary                  min          max  \n",
              "Area                   20420       254616  \n",
              "Perimeter            524.736      1985.37  \n",
              "MajorAxisLength   183.601165  738.8601535  \n",
              "MinorAxisLength  122.5126535  460.1984968  \n",
              "AspectRation     1.024867596  2.430306447  \n",
              "Eccentricity     0.218951263  0.911422968  \n",
              "ConvexArea             20684       263261  \n",
              "EquivDiameter    161.2437642  569.3743583  \n",
              "Extent           0.555314717  0.866194641  \n",
              "Solidity         0.919246157    0.9946775  \n",
              "roundness        0.489618256    0.9906854  \n",
              "Compactness      0.640576759  0.987302969  \n",
              "ShapeFactor1     0.002778013  0.010451169  \n",
              "ShapeFactor2      5.64169E-4  0.003664972  \n",
              "ShapeFactor3     0.410338584  0.974767153  \n",
              "ShapeFactor4     0.947687403   0.99973253  \n",
              "Class               BARBUNYA         SIRA  "
            ],
            "text/html": [
              "\n",
              "  <div id=\"df-deb2190b-55b4-41ff-878e-bdb97bc88c8d\" class=\"colab-df-container\">\n",
              "    <div>\n",
              "<style scoped>\n",
              "    .dataframe tbody tr th:only-of-type {\n",
              "        vertical-align: middle;\n",
              "    }\n",
              "\n",
              "    .dataframe tbody tr th {\n",
              "        vertical-align: top;\n",
              "    }\n",
              "\n",
              "    .dataframe thead th {\n",
              "        text-align: right;\n",
              "    }\n",
              "</style>\n",
              "<table border=\"1\" class=\"dataframe\">\n",
              "  <thead>\n",
              "    <tr style=\"text-align: right;\">\n",
              "      <th></th>\n",
              "      <th>0</th>\n",
              "      <th>1</th>\n",
              "      <th>2</th>\n",
              "      <th>3</th>\n",
              "      <th>4</th>\n",
              "    </tr>\n",
              "  </thead>\n",
              "  <tbody>\n",
              "    <tr>\n",
              "      <th>summary</th>\n",
              "      <td>count</td>\n",
              "      <td>mean</td>\n",
              "      <td>stddev</td>\n",
              "      <td>min</td>\n",
              "      <td>max</td>\n",
              "    </tr>\n",
              "    <tr>\n",
              "      <th>Area</th>\n",
              "      <td>13611</td>\n",
              "      <td>53048.284549261625</td>\n",
              "      <td>29324.09571688207</td>\n",
              "      <td>20420</td>\n",
              "      <td>254616</td>\n",
              "    </tr>\n",
              "    <tr>\n",
              "      <th>Perimeter</th>\n",
              "      <td>13611</td>\n",
              "      <td>855.2834585996654</td>\n",
              "      <td>214.28969589196151</td>\n",
              "      <td>524.736</td>\n",
              "      <td>1985.37</td>\n",
              "    </tr>\n",
              "    <tr>\n",
              "      <th>MajorAxisLength</th>\n",
              "      <td>13611</td>\n",
              "      <td>320.1418673032194</td>\n",
              "      <td>85.6941859593335</td>\n",
              "      <td>183.601165</td>\n",
              "      <td>738.8601535</td>\n",
              "    </tr>\n",
              "    <tr>\n",
              "      <th>MinorAxisLength</th>\n",
              "      <td>13611</td>\n",
              "      <td>202.2707140828817</td>\n",
              "      <td>44.97009129411471</td>\n",
              "      <td>122.5126535</td>\n",
              "      <td>460.1984968</td>\n",
              "    </tr>\n",
              "    <tr>\n",
              "      <th>AspectRation</th>\n",
              "      <td>13611</td>\n",
              "      <td>1.5832419790188144</td>\n",
              "      <td>0.24667845568580432</td>\n",
              "      <td>1.024867596</td>\n",
              "      <td>2.430306447</td>\n",
              "    </tr>\n",
              "    <tr>\n",
              "      <th>Eccentricity</th>\n",
              "      <td>13611</td>\n",
              "      <td>0.750894929372346</td>\n",
              "      <td>0.09200176320620888</td>\n",
              "      <td>0.218951263</td>\n",
              "      <td>0.911422968</td>\n",
              "    </tr>\n",
              "    <tr>\n",
              "      <th>ConvexArea</th>\n",
              "      <td>13611</td>\n",
              "      <td>53768.20020571596</td>\n",
              "      <td>29774.915817000012</td>\n",
              "      <td>20684</td>\n",
              "      <td>263261</td>\n",
              "    </tr>\n",
              "    <tr>\n",
              "      <th>EquivDiameter</th>\n",
              "      <td>13611</td>\n",
              "      <td>253.06421992490445</td>\n",
              "      <td>59.17712014871156</td>\n",
              "      <td>161.2437642</td>\n",
              "      <td>569.3743583</td>\n",
              "    </tr>\n",
              "    <tr>\n",
              "      <th>Extent</th>\n",
              "      <td>13611</td>\n",
              "      <td>0.7497327873564055</td>\n",
              "      <td>0.049086366843964224</td>\n",
              "      <td>0.555314717</td>\n",
              "      <td>0.866194641</td>\n",
              "    </tr>\n",
              "    <tr>\n",
              "      <th>Solidity</th>\n",
              "      <td>13611</td>\n",
              "      <td>0.9871428435655719</td>\n",
              "      <td>0.004660379169838</td>\n",
              "      <td>0.919246157</td>\n",
              "      <td>0.9946775</td>\n",
              "    </tr>\n",
              "    <tr>\n",
              "      <th>roundness</th>\n",
              "      <td>13611</td>\n",
              "      <td>0.873281831305413</td>\n",
              "      <td>0.05951988794941863</td>\n",
              "      <td>0.489618256</td>\n",
              "      <td>0.9906854</td>\n",
              "    </tr>\n",
              "    <tr>\n",
              "      <th>Compactness</th>\n",
              "      <td>13611</td>\n",
              "      <td>0.7998636818695875</td>\n",
              "      <td>0.06171346311682412</td>\n",
              "      <td>0.640576759</td>\n",
              "      <td>0.987302969</td>\n",
              "    </tr>\n",
              "    <tr>\n",
              "      <th>ShapeFactor1</th>\n",
              "      <td>13611</td>\n",
              "      <td>0.006563608507383666</td>\n",
              "      <td>0.0011279982248070671</td>\n",
              "      <td>0.002778013</td>\n",
              "      <td>0.010451169</td>\n",
              "    </tr>\n",
              "    <tr>\n",
              "      <th>ShapeFactor2</th>\n",
              "      <td>13611</td>\n",
              "      <td>0.001715947338917041</td>\n",
              "      <td>5.958748528937661E-4</td>\n",
              "      <td>5.64169E-4</td>\n",
              "      <td>0.003664972</td>\n",
              "    </tr>\n",
              "    <tr>\n",
              "      <th>ShapeFactor3</th>\n",
              "      <td>13611</td>\n",
              "      <td>0.6435901812970417</td>\n",
              "      <td>0.098996150476599</td>\n",
              "      <td>0.410338584</td>\n",
              "      <td>0.974767153</td>\n",
              "    </tr>\n",
              "    <tr>\n",
              "      <th>ShapeFactor4</th>\n",
              "      <td>13611</td>\n",
              "      <td>0.9950633118301326</td>\n",
              "      <td>0.004366457746633824</td>\n",
              "      <td>0.947687403</td>\n",
              "      <td>0.99973253</td>\n",
              "    </tr>\n",
              "    <tr>\n",
              "      <th>Class</th>\n",
              "      <td>13611</td>\n",
              "      <td>None</td>\n",
              "      <td>None</td>\n",
              "      <td>BARBUNYA</td>\n",
              "      <td>SIRA</td>\n",
              "    </tr>\n",
              "  </tbody>\n",
              "</table>\n",
              "</div>\n",
              "    <div class=\"colab-df-buttons\">\n",
              "\n",
              "  <div class=\"colab-df-container\">\n",
              "    <button class=\"colab-df-convert\" onclick=\"convertToInteractive('df-deb2190b-55b4-41ff-878e-bdb97bc88c8d')\"\n",
              "            title=\"Convert this dataframe to an interactive table.\"\n",
              "            style=\"display:none;\">\n",
              "\n",
              "  <svg xmlns=\"http://www.w3.org/2000/svg\" height=\"24px\" viewBox=\"0 -960 960 960\">\n",
              "    <path d=\"M120-120v-720h720v720H120Zm60-500h600v-160H180v160Zm220 220h160v-160H400v160Zm0 220h160v-160H400v160ZM180-400h160v-160H180v160Zm440 0h160v-160H620v160ZM180-180h160v-160H180v160Zm440 0h160v-160H620v160Z\"/>\n",
              "  </svg>\n",
              "    </button>\n",
              "\n",
              "  <style>\n",
              "    .colab-df-container {\n",
              "      display:flex;\n",
              "      gap: 12px;\n",
              "    }\n",
              "\n",
              "    .colab-df-convert {\n",
              "      background-color: #E8F0FE;\n",
              "      border: none;\n",
              "      border-radius: 50%;\n",
              "      cursor: pointer;\n",
              "      display: none;\n",
              "      fill: #1967D2;\n",
              "      height: 32px;\n",
              "      padding: 0 0 0 0;\n",
              "      width: 32px;\n",
              "    }\n",
              "\n",
              "    .colab-df-convert:hover {\n",
              "      background-color: #E2EBFA;\n",
              "      box-shadow: 0px 1px 2px rgba(60, 64, 67, 0.3), 0px 1px 3px 1px rgba(60, 64, 67, 0.15);\n",
              "      fill: #174EA6;\n",
              "    }\n",
              "\n",
              "    .colab-df-buttons div {\n",
              "      margin-bottom: 4px;\n",
              "    }\n",
              "\n",
              "    [theme=dark] .colab-df-convert {\n",
              "      background-color: #3B4455;\n",
              "      fill: #D2E3FC;\n",
              "    }\n",
              "\n",
              "    [theme=dark] .colab-df-convert:hover {\n",
              "      background-color: #434B5C;\n",
              "      box-shadow: 0px 1px 3px 1px rgba(0, 0, 0, 0.15);\n",
              "      filter: drop-shadow(0px 1px 2px rgba(0, 0, 0, 0.3));\n",
              "      fill: #FFFFFF;\n",
              "    }\n",
              "  </style>\n",
              "\n",
              "    <script>\n",
              "      const buttonEl =\n",
              "        document.querySelector('#df-deb2190b-55b4-41ff-878e-bdb97bc88c8d button.colab-df-convert');\n",
              "      buttonEl.style.display =\n",
              "        google.colab.kernel.accessAllowed ? 'block' : 'none';\n",
              "\n",
              "      async function convertToInteractive(key) {\n",
              "        const element = document.querySelector('#df-deb2190b-55b4-41ff-878e-bdb97bc88c8d');\n",
              "        const dataTable =\n",
              "          await google.colab.kernel.invokeFunction('convertToInteractive',\n",
              "                                                    [key], {});\n",
              "        if (!dataTable) return;\n",
              "\n",
              "        const docLinkHtml = 'Like what you see? Visit the ' +\n",
              "          '<a target=\"_blank\" href=https://colab.research.google.com/notebooks/data_table.ipynb>data table notebook</a>'\n",
              "          + ' to learn more about interactive tables.';\n",
              "        element.innerHTML = '';\n",
              "        dataTable['output_type'] = 'display_data';\n",
              "        await google.colab.output.renderOutput(dataTable, element);\n",
              "        const docLink = document.createElement('div');\n",
              "        docLink.innerHTML = docLinkHtml;\n",
              "        element.appendChild(docLink);\n",
              "      }\n",
              "    </script>\n",
              "  </div>\n",
              "\n",
              "\n",
              "<div id=\"df-0e2ee597-4ec6-4bc4-92a4-d24e5f9bde95\">\n",
              "  <button class=\"colab-df-quickchart\" onclick=\"quickchart('df-0e2ee597-4ec6-4bc4-92a4-d24e5f9bde95')\"\n",
              "            title=\"Suggest charts\"\n",
              "            style=\"display:none;\">\n",
              "\n",
              "<svg xmlns=\"http://www.w3.org/2000/svg\" height=\"24px\"viewBox=\"0 0 24 24\"\n",
              "     width=\"24px\">\n",
              "    <g>\n",
              "        <path d=\"M19 3H5c-1.1 0-2 .9-2 2v14c0 1.1.9 2 2 2h14c1.1 0 2-.9 2-2V5c0-1.1-.9-2-2-2zM9 17H7v-7h2v7zm4 0h-2V7h2v10zm4 0h-2v-4h2v4z\"/>\n",
              "    </g>\n",
              "</svg>\n",
              "  </button>\n",
              "\n",
              "<style>\n",
              "  .colab-df-quickchart {\n",
              "      --bg-color: #E8F0FE;\n",
              "      --fill-color: #1967D2;\n",
              "      --hover-bg-color: #E2EBFA;\n",
              "      --hover-fill-color: #174EA6;\n",
              "      --disabled-fill-color: #AAA;\n",
              "      --disabled-bg-color: #DDD;\n",
              "  }\n",
              "\n",
              "  [theme=dark] .colab-df-quickchart {\n",
              "      --bg-color: #3B4455;\n",
              "      --fill-color: #D2E3FC;\n",
              "      --hover-bg-color: #434B5C;\n",
              "      --hover-fill-color: #FFFFFF;\n",
              "      --disabled-bg-color: #3B4455;\n",
              "      --disabled-fill-color: #666;\n",
              "  }\n",
              "\n",
              "  .colab-df-quickchart {\n",
              "    background-color: var(--bg-color);\n",
              "    border: none;\n",
              "    border-radius: 50%;\n",
              "    cursor: pointer;\n",
              "    display: none;\n",
              "    fill: var(--fill-color);\n",
              "    height: 32px;\n",
              "    padding: 0;\n",
              "    width: 32px;\n",
              "  }\n",
              "\n",
              "  .colab-df-quickchart:hover {\n",
              "    background-color: var(--hover-bg-color);\n",
              "    box-shadow: 0 1px 2px rgba(60, 64, 67, 0.3), 0 1px 3px 1px rgba(60, 64, 67, 0.15);\n",
              "    fill: var(--button-hover-fill-color);\n",
              "  }\n",
              "\n",
              "  .colab-df-quickchart-complete:disabled,\n",
              "  .colab-df-quickchart-complete:disabled:hover {\n",
              "    background-color: var(--disabled-bg-color);\n",
              "    fill: var(--disabled-fill-color);\n",
              "    box-shadow: none;\n",
              "  }\n",
              "\n",
              "  .colab-df-spinner {\n",
              "    border: 2px solid var(--fill-color);\n",
              "    border-color: transparent;\n",
              "    border-bottom-color: var(--fill-color);\n",
              "    animation:\n",
              "      spin 1s steps(1) infinite;\n",
              "  }\n",
              "\n",
              "  @keyframes spin {\n",
              "    0% {\n",
              "      border-color: transparent;\n",
              "      border-bottom-color: var(--fill-color);\n",
              "      border-left-color: var(--fill-color);\n",
              "    }\n",
              "    20% {\n",
              "      border-color: transparent;\n",
              "      border-left-color: var(--fill-color);\n",
              "      border-top-color: var(--fill-color);\n",
              "    }\n",
              "    30% {\n",
              "      border-color: transparent;\n",
              "      border-left-color: var(--fill-color);\n",
              "      border-top-color: var(--fill-color);\n",
              "      border-right-color: var(--fill-color);\n",
              "    }\n",
              "    40% {\n",
              "      border-color: transparent;\n",
              "      border-right-color: var(--fill-color);\n",
              "      border-top-color: var(--fill-color);\n",
              "    }\n",
              "    60% {\n",
              "      border-color: transparent;\n",
              "      border-right-color: var(--fill-color);\n",
              "    }\n",
              "    80% {\n",
              "      border-color: transparent;\n",
              "      border-right-color: var(--fill-color);\n",
              "      border-bottom-color: var(--fill-color);\n",
              "    }\n",
              "    90% {\n",
              "      border-color: transparent;\n",
              "      border-bottom-color: var(--fill-color);\n",
              "    }\n",
              "  }\n",
              "</style>\n",
              "\n",
              "  <script>\n",
              "    async function quickchart(key) {\n",
              "      const quickchartButtonEl =\n",
              "        document.querySelector('#' + key + ' button');\n",
              "      quickchartButtonEl.disabled = true;  // To prevent multiple clicks.\n",
              "      quickchartButtonEl.classList.add('colab-df-spinner');\n",
              "      try {\n",
              "        const charts = await google.colab.kernel.invokeFunction(\n",
              "            'suggestCharts', [key], {});\n",
              "      } catch (error) {\n",
              "        console.error('Error during call to suggestCharts:', error);\n",
              "      }\n",
              "      quickchartButtonEl.classList.remove('colab-df-spinner');\n",
              "      quickchartButtonEl.classList.add('colab-df-quickchart-complete');\n",
              "    }\n",
              "    (() => {\n",
              "      let quickchartButtonEl =\n",
              "        document.querySelector('#df-0e2ee597-4ec6-4bc4-92a4-d24e5f9bde95 button');\n",
              "      quickchartButtonEl.style.display =\n",
              "        google.colab.kernel.accessAllowed ? 'block' : 'none';\n",
              "    })();\n",
              "  </script>\n",
              "</div>\n",
              "\n",
              "    </div>\n",
              "  </div>\n"
            ],
            "application/vnd.google.colaboratory.intrinsic+json": {
              "type": "dataframe",
              "summary": "{\n  \"name\": \"df\",\n  \"rows\": 18,\n  \"fields\": [\n    {\n      \"column\": 0,\n      \"properties\": {\n        \"dtype\": \"category\",\n        \"num_unique_values\": 2,\n        \"samples\": [\n          \"13611\",\n          \"count\"\n        ],\n        \"semantic_type\": \"\",\n        \"description\": \"\"\n      }\n    },\n    {\n      \"column\": 1,\n      \"properties\": {\n        \"dtype\": \"string\",\n        \"num_unique_values\": 17,\n        \"samples\": [\n          \"mean\",\n          \"53048.284549261625\"\n        ],\n        \"semantic_type\": \"\",\n        \"description\": \"\"\n      }\n    },\n    {\n      \"column\": 2,\n      \"properties\": {\n        \"dtype\": \"string\",\n        \"num_unique_values\": 17,\n        \"samples\": [\n          \"stddev\",\n          \"29324.09571688207\"\n        ],\n        \"semantic_type\": \"\",\n        \"description\": \"\"\n      }\n    },\n    {\n      \"column\": 3,\n      \"properties\": {\n        \"dtype\": \"string\",\n        \"num_unique_values\": 18,\n        \"samples\": [\n          \"min\",\n          \"20420\"\n        ],\n        \"semantic_type\": \"\",\n        \"description\": \"\"\n      }\n    },\n    {\n      \"column\": 4,\n      \"properties\": {\n        \"dtype\": \"string\",\n        \"num_unique_values\": 18,\n        \"samples\": [\n          \"max\",\n          \"254616\"\n        ],\n        \"semantic_type\": \"\",\n        \"description\": \"\"\n      }\n    }\n  ]\n}"
            }
          },
          "metadata": {},
          "execution_count": 8
        }
      ],
      "source": [
        "df.describe().toPandas().transpose()"
      ]
    },
    {
      "cell_type": "code",
      "source": [
        "df = df.drop('Class')"
      ],
      "metadata": {
        "id": "k-7ZutknEMME"
      },
      "execution_count": null,
      "outputs": []
    },
    {
      "cell_type": "markdown",
      "source": [
        "# Prepare the features"
      ],
      "metadata": {
        "id": "IESX-adV1v8T"
      }
    },
    {
      "cell_type": "code",
      "execution_count": null,
      "metadata": {
        "collapsed": true,
        "id": "6k39pRhy7w8s"
      },
      "outputs": [],
      "source": [
        "from pyspark.ml.feature import VectorAssembler\n",
        "featuresUsed = df.columns\n",
        "\n",
        "assembler = VectorAssembler(inputCols=featuresUsed, outputCol=\"features\")\n",
        "assembled = assembler.transform(df)"
      ]
    },
    {
      "cell_type": "markdown",
      "source": [
        "# Choose number of cluster of Kmean"
      ],
      "metadata": {
        "id": "K8G4_uaQ2ozZ"
      }
    },
    {
      "cell_type": "code",
      "source": [
        "#elbow point\n",
        "number_of_clusters = 5"
      ],
      "metadata": {
        "id": "hlRK6SHJteek"
      },
      "execution_count": null,
      "outputs": []
    },
    {
      "cell_type": "code",
      "source": [
        "from pyspark.ml.clustering import KMeans\n",
        "kmeans = KMeans(k = number_of_clusters)"
      ],
      "metadata": {
        "id": "Dhu2TIC8tehb"
      },
      "execution_count": null,
      "outputs": []
    },
    {
      "cell_type": "code",
      "source": [
        "model = kmeans.fit(assembled)"
      ],
      "metadata": {
        "id": "RyMbahWStekC"
      },
      "execution_count": null,
      "outputs": []
    },
    {
      "cell_type": "markdown",
      "source": [
        "# Make prediction and show evaluation"
      ],
      "metadata": {
        "id": "EToLRMbp2vNT"
      }
    },
    {
      "cell_type": "code",
      "source": [
        "predictions = model.transform(assembled)"
      ],
      "metadata": {
        "id": "JPR5xuCJtemn"
      },
      "execution_count": null,
      "outputs": []
    },
    {
      "cell_type": "code",
      "source": [
        "predictions.groupBy('prediction').count().show()"
      ],
      "metadata": {
        "colab": {
          "base_uri": "https://localhost:8080/"
        },
        "id": "LHLjnPgCuATa",
        "outputId": "9eb54f7c-4414-449a-b8c4-1fa9e38d729f"
      },
      "execution_count": null,
      "outputs": [
        {
          "output_type": "stream",
          "name": "stdout",
          "text": [
            "+----------+-----+\n",
            "|prediction|count|\n",
            "+----------+-----+\n",
            "|         1|  520|\n",
            "|         2| 3705|\n",
            "|         0| 9386|\n",
            "+----------+-----+\n",
            "\n"
          ]
        }
      ]
    },
    {
      "cell_type": "code",
      "source": [
        "from pyspark.ml.evaluation import ClusteringEvaluator\n",
        "\n",
        "evaluator = ClusteringEvaluator()\n",
        "cost = evaluator.evaluate(predictions)"
      ],
      "metadata": {
        "id": "FGLHrS4KuWNA"
      },
      "execution_count": null,
      "outputs": []
    },
    {
      "cell_type": "code",
      "source": [
        "print(cost)"
      ],
      "metadata": {
        "colab": {
          "base_uri": "https://localhost:8080/"
        },
        "id": "t_ifuz6wuabB",
        "outputId": "5089dd6a-3332-424d-cd09-cfc81e99566f"
      },
      "execution_count": null,
      "outputs": [
        {
          "output_type": "stream",
          "name": "stdout",
          "text": [
            "0.8262409265056134\n"
          ]
        }
      ]
    },
    {
      "cell_type": "code",
      "source": [
        "centers = model.clusterCenters()"
      ],
      "metadata": {
        "id": "zC7eqmAMyp2X"
      },
      "execution_count": null,
      "outputs": []
    },
    {
      "cell_type": "code",
      "source": [
        "print(centers)"
      ],
      "metadata": {
        "colab": {
          "base_uri": "https://localhost:8080/"
        },
        "id": "yKv2ThAQyr_h",
        "outputId": "0e4891d8-9984-44f4-8fa4-5499f708657d"
      },
      "execution_count": null,
      "outputs": [
        {
          "output_type": "stream",
          "name": "stdout",
          "text": [
            "[array([3.94039515e+04, 7.41889991e+02, 2.75634793e+02, 1.81986018e+02,\n",
            "       1.52297286e+00, 7.27881819e-01, 3.98756457e+04, 2.22868176e+02,\n",
            "       7.50491938e-01, 9.88235576e-01, 8.95448863e-01, 8.15862914e-01,\n",
            "       7.09631058e-03, 1.98013503e-03, 6.69379158e-01, 9.96264469e-01]), array([1.73708006e+05, 1.58682284e+03, 5.93746342e+02, 3.74494358e+02,\n",
            "       1.58663498e+00, 7.71053829e-01, 1.76040635e+05, 4.69270023e+02,\n",
            "       7.76670114e-01, 9.86888965e-01, 8.64297508e-01, 7.92303935e-01,\n",
            "       3.44074408e-03, 8.42278487e-04, 6.28664768e-01, 9.91829684e-01]), array([7.06792305e+04, 1.03987472e+03, 3.94492493e+02, 2.29486871e+02,\n",
            "       1.73544755e+00, 8.06365490e-01, 7.18016281e+04, 2.99216191e+02,\n",
            "       7.44028928e-01, 9.84410220e-01, 8.18386308e-01, 7.60393312e-01,\n",
            "       5.65239335e-03, 1.16929205e-03, 5.80352903e-01, 9.92474222e-01])]\n"
          ]
        }
      ]
    },
    {
      "cell_type": "code",
      "source": [
        "elbowset = assembled.select(\"features\")\n",
        "elbowset.persist()"
      ],
      "metadata": {
        "colab": {
          "base_uri": "https://localhost:8080/"
        },
        "id": "iNoa1rDLv4Iw",
        "outputId": "d3b70ab6-437b-41b1-944e-0d301c61c2a4"
      },
      "execution_count": null,
      "outputs": [
        {
          "output_type": "execute_result",
          "data": {
            "text/plain": [
              "DataFrame[features: vector]"
            ]
          },
          "metadata": {},
          "execution_count": 20
        }
      ]
    },
    {
      "cell_type": "markdown",
      "source": [
        "# Data validation to find the best K"
      ],
      "metadata": {
        "id": "Lbv6IhGmwDq9"
      }
    },
    {
      "cell_type": "code",
      "source": [
        "import numpy as np\n",
        "# Evaluate clustering by computing Silhouette score\n",
        "\n",
        "cost = np.zeros(30)\n",
        "for k in range(2,31):\n",
        "    kmeans = KMeans()\\\n",
        "            .setK(k)\\\n",
        "            .setSeed(1)\n",
        "\n",
        "    model = kmeans.fit(elbowset)\n",
        "    prediction=model.transform(elbowset)\n",
        "    evaluator = ClusteringEvaluator()\n",
        "    silhouette = evaluator.evaluate(prediction)\n",
        "    cost[k-1] = silhouette"
      ],
      "metadata": {
        "id": "BApHwa97vtIC"
      },
      "execution_count": null,
      "outputs": []
    },
    {
      "cell_type": "code",
      "source": [
        "import numpy as np\n",
        "import matplotlib.mlab as mlab\n",
        "import matplotlib.pyplot as plt\n",
        "import seaborn as sbs\n",
        "from matplotlib.ticker import MaxNLocator\n",
        "\n",
        "fig, ax = plt.subplots(1,1, figsize =(8,6))\n",
        "ax.plot(range(2,31),cost[1:30])\n",
        "ax.set_xlabel('k')\n",
        "ax.set_ylabel('cost')\n",
        "ax.xaxis.set_major_locator(MaxNLocator(integer=True))\n",
        "plt.show()"
      ],
      "metadata": {
        "colab": {
          "base_uri": "https://localhost:8080/",
          "height": 542
        },
        "id": "70ko0ayIss7R",
        "outputId": "b9ded912-0ee2-4c8e-f318-c17164508e89"
      },
      "execution_count": null,
      "outputs": [
        {
          "output_type": "display_data",
          "data": {
            "text/plain": [
              "<Figure size 800x600 with 1 Axes>"
            ],
            "image/png": "[encoded data removed]"
          },
          "metadata": {}
        }
      ]
    },
    {
      "cell_type": "markdown",
      "source": [
        "#Scale the input data with 0 mean unit(1) variance"
      ],
      "metadata": {
        "id": "iaCpjy_EEupC"
      }
    },
    {
      "cell_type": "code",
      "execution_count": null,
      "metadata": {
        "collapsed": true,
        "id": "W_5avSo37w8s"
      },
      "outputs": [],
      "source": [
        "from pyspark.ml.feature import StandardScaler\n",
        "\n",
        "scaler = StandardScaler(inputCol=\"features\", outputCol=\"features_std\", withStd=True, withMean=True)\n",
        "scalerModel = scaler.fit(assembled)\n",
        "scaledData = scalerModel.transform(assembled)"
      ]
    },
    {
      "cell_type": "code",
      "source": [
        "kmean = KMeans(k = number_of_clusters,featuresCol=\"features_std\")"
      ],
      "metadata": {
        "id": "gPWsYi0JwzHW"
      },
      "execution_count": null,
      "outputs": []
    },
    {
      "cell_type": "code",
      "source": [
        "model_std = kmean.fit(scaledData)"
      ],
      "metadata": {
        "id": "XJY0EAxbw5Ot"
      },
      "execution_count": null,
      "outputs": []
    },
    {
      "cell_type": "code",
      "source": [
        "prediction_std = model_std.transform(scaledData)\n"
      ],
      "metadata": {
        "id": "qf7GX9u_zDVX"
      },
      "execution_count": null,
      "outputs": []
    },
    {
      "cell_type": "code",
      "source": [
        "prediction_std.groupBy('prediction').count().show()"
      ],
      "metadata": {
        "colab": {
          "base_uri": "https://localhost:8080/"
        },
        "id": "HJHex9juzQxO",
        "outputId": "79e8a153-0f35-4491-9f47-9e0db00882d8"
      },
      "execution_count": null,
      "outputs": [
        {
          "output_type": "stream",
          "name": "stdout",
          "text": [
            "+----------+-----+\n",
            "|prediction|count|\n",
            "+----------+-----+\n",
            "|         1|  524|\n",
            "|         2| 5507|\n",
            "|         0| 7580|\n",
            "+----------+-----+\n",
            "\n"
          ]
        }
      ]
    },
    {
      "cell_type": "code",
      "source": [
        "evaluator = ClusteringEvaluator()\n",
        "cost = evaluator.evaluate(prediction_std)\n",
        "print(cost)"
      ],
      "metadata": {
        "colab": {
          "base_uri": "https://localhost:8080/"
        },
        "id": "I8whivvKw5Rp",
        "outputId": "eb5d0ffc-8dfb-467b-e93c-f5200c3ad844"
      },
      "execution_count": null,
      "outputs": [
        {
          "output_type": "stream",
          "name": "stdout",
          "text": [
            "0.6375313166565078\n"
          ]
        }
      ]
    },
    {
      "cell_type": "markdown",
      "source": [
        "## Perform elbow plot in the range of 2 - 31"
      ],
      "metadata": {
        "id": "ksnqoNVVE6rI"
      }
    },
    {
      "cell_type": "code",
      "source": [
        "elbowset = scaledData.select(\"features_std\")\n",
        "elbowset.persist()"
      ],
      "metadata": {
        "colab": {
          "base_uri": "https://localhost:8080/"
        },
        "id": "lGus9zmJz2EO",
        "outputId": "f0906fe2-b73d-4c0b-d938-85ee37cc70c7"
      },
      "execution_count": null,
      "outputs": [
        {
          "output_type": "execute_result",
          "data": {
            "text/plain": [
              "DataFrame[features_std: vector]"
            ]
          },
          "metadata": {},
          "execution_count": 29
        }
      ]
    },
    {
      "cell_type": "code",
      "source": [
        "# Evaluate clustering by computing Silhouette score\n",
        "cost = np.zeros(30)\n",
        "for k in range(2,31):\n",
        "    kmeans = KMeans(featuresCol=\"features_std\")\\\n",
        "            .setK(k)\\\n",
        "            .setSeed(1)\n",
        "\n",
        "    model = kmeans.fit(elbowset)\n",
        "    prediction=model.transform(elbowset)\n",
        "    evaluator = ClusteringEvaluator(featuresCol=\"features_std\")\n",
        "    silhouette = evaluator.evaluate(prediction)\n",
        "    cost[k-1] = silhouette"
      ],
      "metadata": {
        "id": "UYFkNDa6-aP9"
      },
      "execution_count": null,
      "outputs": []
    },
    {
      "cell_type": "code",
      "execution_count": null,
      "metadata": {
        "id": "0VRAf92o7w8t",
        "colab": {
          "base_uri": "https://localhost:8080/",
          "height": 542
        },
        "outputId": "7055096b-5750-4667-aef2-786f3fdeb7e4"
      },
      "outputs": [
        {
          "output_type": "display_data",
          "data": {
            "text/plain": [
              "<Figure size 800x600 with 1 Axes>"
            ],
            "image/png": "[encoded data removed]"
          },
          "metadata": {}
        }
      ],
      "source": [
        "fig, ax = plt.subplots(1,1, figsize =(8,6))\n",
        "ax.plot(range(2,31),cost[1:30])\n",
        "ax.set_xlabel('k')\n",
        "ax.set_ylabel('cost')\n",
        "ax.xaxis.set_major_locator(MaxNLocator(integer=True))\n",
        "plt.show()"
      ]
    },
    {
      "cell_type": "markdown",
      "source": [
        "หลัง scale จะได้ผลลัพธ์ที่ดีกว่า"
      ],
      "metadata": {
        "id": "T2LRexEPHXpS"
      }
    },
    {
      "cell_type": "code",
      "source": [
        "spark.stop()"
      ],
      "metadata": {
        "id": "tEhxaug31iG5"
      },
      "execution_count": null,
      "outputs": []
    }
  ],
  "metadata": {
    "kernelspec": {
      "display_name": "Python 3",
      "language": "python",
      "name": "python3"
    },
    "language_info": {
      "codemirror_mode": {
        "name": "ipython",
        "version": 3
      },
      "file_extension": ".py",
      "mimetype": "text/x-python",
      "name": "python",
      "nbconvert_exporter": "python",
      "pygments_lexer": "ipython3",
      "version": "3.5.1"
    },
    "colab": {
      "provenance": []
    }
  },
  "nbformat": 4,
  "nbformat_minor": 0
}