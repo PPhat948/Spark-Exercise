{
  "nbformat": 4,
  "nbformat_minor": 0,
  "metadata": {
    "colab": {
      "provenance": []
    },
    "kernelspec": {
      "name": "python3",
      "display_name": "Python 3"
    },
    "language_info": {
      "name": "python"
    }
  },
  "cells": [
    {
      "cell_type": "markdown",
      "metadata": {
        "id": "view-in-github"
      },
      "source": [
        "<a href=\"https://colab.research.google.com/github/AjMing/BigData/blob/main/Demo_SparkSQL.ipynb\" target=\"_parent\"><img src=\"https://colab.research.google.com/assets/colab-badge.svg\" alt=\"Open In Colab\"/></a>"
      ]
    },
    {
      "cell_type": "code",
      "execution_count": null,
      "metadata": {
        "colab": {
          "base_uri": "https://localhost:8080/"
        },
        "id": "-U8OiIuROjxU",
        "outputId": "57d41330-3e79-493a-f052-dca7187b303c"
      },
      "outputs": [
        {
          "output_type": "stream",
          "name": "stdout",
          "text": [
            "Requirement already satisfied: pyspark in /usr/local/lib/python3.11/dist-packages (3.5.5)\n",
            "Requirement already satisfied: py4j==0.10.9.7 in /usr/local/lib/python3.11/dist-packages (from pyspark) (0.10.9.7)\n",
            "Requirement already satisfied: findspark in /usr/local/lib/python3.11/dist-packages (2.0.1)\n"
          ]
        }
      ],
      "source": [
        "# Installing required packages\n",
        "!pip install pyspark\n",
        "!pip install findspark"
      ]
    },
    {
      "cell_type": "code",
      "source": [
        "import findspark\n",
        "findspark.init()"
      ],
      "metadata": {
        "id": "zUpuyBRHPA1Y"
      },
      "execution_count": null,
      "outputs": []
    },
    {
      "cell_type": "code",
      "source": [
        "# PySpark is the Spark API for Python. In this lab, we use PySpark to initialize the spark context.\n",
        "from pyspark import SparkContext, SparkConf\n",
        "from pyspark.sql import SparkSession"
      ],
      "metadata": {
        "id": "uvpcGWJ0PEmL"
      },
      "execution_count": null,
      "outputs": []
    },
    {
      "cell_type": "code",
      "source": [
        "# Creating a spark context class\n",
        "sc = SparkContext()"
      ],
      "metadata": {
        "id": "S86JO9hFdlHb"
      },
      "execution_count": null,
      "outputs": []
    },
    {
      "cell_type": "code",
      "source": [
        "spark = SparkSession \\\n",
        "    .builder \\\n",
        "    .getOrCreate()"
      ],
      "metadata": {
        "id": "QoT97rvNbH_e"
      },
      "execution_count": null,
      "outputs": []
    },
    {
      "cell_type": "code",
      "source": [
        "data=[('A',1),('B',2),('C',3)]"
      ],
      "metadata": {
        "id": "csniE1o4dxUs"
      },
      "execution_count": null,
      "outputs": []
    },
    {
      "cell_type": "code",
      "source": [
        "rdd=sc.parallelize(data)"
      ],
      "metadata": {
        "id": "0VDeUiCyek8B"
      },
      "execution_count": null,
      "outputs": []
    },
    {
      "cell_type": "code",
      "source": [
        "print(rdd.glom().collect())"
      ],
      "metadata": {
        "colab": {
          "base_uri": "https://localhost:8080/"
        },
        "id": "xJiKII1s5Q9e",
        "outputId": "0db6ce75-05b8-4dcd-a7fb-080380229e7c"
      },
      "execution_count": null,
      "outputs": [
        {
          "output_type": "stream",
          "name": "stdout",
          "text": [
            "[[('A', 1)], [('B', 2), ('C', 3)]]\n"
          ]
        }
      ]
    },
    {
      "cell_type": "markdown",
      "source": [
        "# Create DataFrame"
      ],
      "metadata": {
        "id": "ANxDTDZFbVJN"
      }
    },
    {
      "cell_type": "code",
      "source": [
        "dfFromRDD=rdd.toDF()\n",
        "dfFromRDD.printSchema()\n",
        "dfFromRDD.show()"
      ],
      "metadata": {
        "colab": {
          "base_uri": "https://localhost:8080/"
        },
        "id": "XCDhf-KKeeEW",
        "outputId": "9ae78abc-0a42-4bc5-f622-5013435a9c27"
      },
      "execution_count": null,
      "outputs": [
        {
          "output_type": "stream",
          "name": "stdout",
          "text": [
            "root\n",
            " |-- _1: string (nullable = true)\n",
            " |-- _2: long (nullable = true)\n",
            "\n",
            "+---+---+\n",
            "| _1| _2|\n",
            "+---+---+\n",
            "|  A|  1|\n",
            "|  B|  2|\n",
            "|  C|  3|\n",
            "+---+---+\n",
            "\n"
          ]
        }
      ]
    },
    {
      "cell_type": "code",
      "source": [
        "header=['key','value']"
      ],
      "metadata": {
        "id": "DDQODxfyYkxw"
      },
      "execution_count": null,
      "outputs": []
    },
    {
      "cell_type": "code",
      "source": [
        "dfFromRDD1=rdd.toDF(header)\n",
        "dfFromRDD1.printSchema()"
      ],
      "metadata": {
        "colab": {
          "base_uri": "https://localhost:8080/"
        },
        "id": "1tuGv7EpPXHm",
        "outputId": "a936695f-a705-4150-f34b-f865360ddfd9"
      },
      "execution_count": null,
      "outputs": [
        {
          "output_type": "stream",
          "name": "stdout",
          "text": [
            "root\n",
            " |-- key: string (nullable = true)\n",
            " |-- value: long (nullable = true)\n",
            "\n"
          ]
        }
      ]
    },
    {
      "cell_type": "code",
      "source": [
        "dfFromRDD.show()"
      ],
      "metadata": {
        "colab": {
          "base_uri": "https://localhost:8080/"
        },
        "id": "h_dq9WY8tmkN",
        "outputId": "d3a8fad2-d6f8-4c27-9979-02ac8aedf533"
      },
      "execution_count": null,
      "outputs": [
        {
          "output_type": "stream",
          "name": "stdout",
          "text": [
            "+---+---+\n",
            "| _1| _2|\n",
            "+---+---+\n",
            "|  A|  1|\n",
            "|  B|  2|\n",
            "|  C|  3|\n",
            "+---+---+\n",
            "\n"
          ]
        }
      ]
    },
    {
      "cell_type": "code",
      "source": [
        "dfFromRDD1.show()"
      ],
      "metadata": {
        "colab": {
          "base_uri": "https://localhost:8080/"
        },
        "id": "hw5ccDy4d1Bq",
        "outputId": "f1d9f9d0-0a6a-412d-8601-69be255725c0"
      },
      "execution_count": null,
      "outputs": [
        {
          "output_type": "stream",
          "name": "stdout",
          "text": [
            "+---+-----+\n",
            "|key|value|\n",
            "+---+-----+\n",
            "|  A|    1|\n",
            "|  B|    2|\n",
            "|  C|    3|\n",
            "+---+-----+\n",
            "\n"
          ]
        }
      ]
    },
    {
      "cell_type": "markdown",
      "source": [
        "Option2: Import RDD with column"
      ],
      "metadata": {
        "id": "oXlLli6NfnsB"
      }
    },
    {
      "cell_type": "code",
      "source": [
        "dfFromRDD2=spark.createDataFrame(rdd).toDF(*header)"
      ],
      "metadata": {
        "id": "EJpbYATWeAk1"
      },
      "execution_count": null,
      "outputs": []
    },
    {
      "cell_type": "code",
      "source": [
        "dfFromRDD2.printSchema()"
      ],
      "metadata": {
        "id": "Snul2oOGeNip",
        "colab": {
          "base_uri": "https://localhost:8080/"
        },
        "outputId": "7d5b3eac-0376-42fd-d0fd-9c96b10def65"
      },
      "execution_count": null,
      "outputs": [
        {
          "output_type": "stream",
          "name": "stdout",
          "text": [
            "root\n",
            " |-- key: string (nullable = true)\n",
            " |-- value: long (nullable = true)\n",
            "\n"
          ]
        }
      ]
    },
    {
      "cell_type": "code",
      "source": [
        "dfFromRDD2.show()"
      ],
      "metadata": {
        "id": "qSkThO4TeNN_",
        "colab": {
          "base_uri": "https://localhost:8080/"
        },
        "outputId": "85f68c0b-d3cd-4b4e-9cc1-65905eaf6c73"
      },
      "execution_count": null,
      "outputs": [
        {
          "output_type": "stream",
          "name": "stdout",
          "text": [
            "+---+-----+\n",
            "|key|value|\n",
            "+---+-----+\n",
            "|  A|    1|\n",
            "|  B|    2|\n",
            "|  C|    3|\n",
            "+---+-----+\n",
            "\n"
          ]
        }
      ]
    },
    {
      "cell_type": "markdown",
      "source": [
        "Option3: Import the data directly"
      ],
      "metadata": {
        "id": "rJcd-4MmfrJU"
      }
    },
    {
      "cell_type": "code",
      "source": [
        "dfFromRDD3=spark.createDataFrame(data).toDF(*header)\n",
        "dfFromRDD3.printSchema()\n",
        "dfFromRDD3.show()"
      ],
      "metadata": {
        "colab": {
          "base_uri": "https://localhost:8080/"
        },
        "id": "f-BIwJ08flc_",
        "outputId": "8d446532-db0c-463c-8e50-698b95049971"
      },
      "execution_count": null,
      "outputs": [
        {
          "output_type": "stream",
          "name": "stdout",
          "text": [
            "root\n",
            " |-- key: string (nullable = true)\n",
            " |-- value: long (nullable = true)\n",
            "\n",
            "+---+-----+\n",
            "|key|value|\n",
            "+---+-----+\n",
            "|  A|    1|\n",
            "|  B|    2|\n",
            "|  C|    3|\n",
            "+---+-----+\n",
            "\n"
          ]
        }
      ]
    },
    {
      "cell_type": "code",
      "source": [
        "sc.stop()"
      ],
      "metadata": {
        "id": "3AdPMfD7e2nQ"
      },
      "execution_count": null,
      "outputs": []
    },
    {
      "cell_type": "markdown",
      "source": [
        "# Import DataFrame"
      ],
      "metadata": {
        "id": "dSoEfg4yePNV"
      }
    },
    {
      "cell_type": "code",
      "source": [
        "# Creating a spark session\n",
        "spark = SparkSession \\\n",
        "    .builder \\\n",
        "    .appName(\"Python Spark DataFrames Import example\") \\\n",
        "    .config(\"spark.some.config.option\", \"some-value\") \\\n",
        "    .getOrCreate()"
      ],
      "metadata": {
        "id": "QTYLEGhkhwSw"
      },
      "execution_count": null,
      "outputs": []
    },
    {
      "cell_type": "code",
      "source": [
        "#dataframe native\n"
      ],
      "metadata": {
        "id": "sp0bLl5azvkK"
      },
      "execution_count": null,
      "outputs": []
    },
    {
      "cell_type": "code",
      "source": [
        "dataframe = spark.read.csv(\"student.csv\",header='true',inferSchema=True)\n",
        "dataframe.show()\n",
        "dataframe.printSchema()\n"
      ],
      "metadata": {
        "id": "w97qEnAVZRON",
        "colab": {
          "base_uri": "https://localhost:8080/"
        },
        "outputId": "149c52e4-775c-499a-c7fa-4f87de96cdc1"
      },
      "execution_count": null,
      "outputs": [
        {
          "output_type": "stream",
          "name": "stdout",
          "text": [
            "+---+----------+-----+--------------------+-----+--------------------+\n",
            "|No.|Student ID|Title|      Name - Lasname|Class|             WebMail|\n",
            "+---+----------+-----+--------------------+-----+--------------------+\n",
            "|  1|   6413104|  Ms.|    PANFA TONSOMBOON|    4|panfa.ton@student...|\n",
            "|  2|   6413108|  Ms.|      PALARP WASUWAT|    4|palarp.was@studen...|\n",
            "|  3|   6413213|  Ms.|      TAWANWAD ONNOM|    4|tawanwad.onn@stud...|\n",
            "|  4|   6513111|  Ms.|   CHUTIYA THANALUCK|    3|chutiya.tha@stude...|\n",
            "|  5|   6513112|  Mr.|THANAKRIT CHUTIWO...|    3|thanakrit.chi@stu...|\n",
            "|  6|   6513114|  Ms.|NIPATSA CHAINIWAT...|    3|nipatsa.cha@stude...|\n",
            "|  7|   6513115|  Mr.|    PORAMES AIMLAONG|    3|porames.aim@stude...|\n",
            "|  8|   6513118|  Mr.|        PISIT SAEJIA|    3|pisit.saa@student...|\n",
            "|  9|   6513121|  Mr.|SUPAKORN THAVORNVONG|    3|supakorn.thv@stud...|\n",
            "| 10|   6513122|  Mr.|SORAWIT PHATTHARA...|    3|sorawit.pha@stude...|\n",
            "| 11|   6513123|  Mr.|   ANAPAT KITSOMMART|    3|anapat.kit@studen...|\n",
            "| 12|   6513134|  Mr.|   PUTHIPONG YOMABUT|    3|putthipong.yom@st...|\n",
            "| 13|   6513136|  Mr.|     MAHANNOP THABUA|    3|mahannop.tha@stud...|\n",
            "| 14|   6513160|  Mr.|KUNANONT VUTIPRAS...|    3|kunanont.vut@stud...|\n",
            "| 15|   6513161|  Mr.| JARUPAT CHODSITANAN|    3|jarupat.cho@stude...|\n",
            "| 16|   6513163|  Ms.|    CHALISA BUATHONG|    3|chalisa.bua@stude...|\n",
            "| 17|   6513168|  Mr.| NOPPARUJ RITNATIKUL|    3|nopparuj.rit@stud...|\n",
            "| 18|   6513170|  Mr.|   PATIHARN KAMENKIT|    3|patiharn.kam@stud...|\n",
            "| 19|   6513172|  Mr.|PHATTARADANAI SOR...|    3|phattaradanai.sor...|\n",
            "| 20|   6513174|  Mr.|WATDANAI SANSENAK...|    3|watdanai.san@stud...|\n",
            "+---+----------+-----+--------------------+-----+--------------------+\n",
            "only showing top 20 rows\n",
            "\n",
            "root\n",
            " |-- No.: integer (nullable = true)\n",
            " |-- Student ID: integer (nullable = true)\n",
            " |-- Title: string (nullable = true)\n",
            " |-- Name - Lasname: string (nullable = true)\n",
            " |-- Class: integer (nullable = true)\n",
            " |-- WebMail: string (nullable = true)\n",
            "\n"
          ]
        }
      ]
    },
    {
      "cell_type": "code",
      "source": [
        "dataframe.head()"
      ],
      "metadata": {
        "id": "LZNiG-0ynHlo",
        "colab": {
          "base_uri": "https://localhost:8080/"
        },
        "outputId": "21364e7e-c20f-4089-8fb4-83238a43ae02"
      },
      "execution_count": null,
      "outputs": [
        {
          "output_type": "execute_result",
          "data": {
            "text/plain": [
              "Row(No.=1, Student ID=6413104, Title='Ms.', Name - Lasname='PANFA TONSOMBOON', Class=4, WebMail='panfa.ton@student.mahidol.ac.th')"
            ]
          },
          "metadata": {},
          "execution_count": 22
        }
      ]
    },
    {
      "cell_type": "code",
      "source": [
        "#Get Column Name\n",
        "dataframe.columns"
      ],
      "metadata": {
        "id": "5OP--Q4ph3mh",
        "colab": {
          "base_uri": "https://localhost:8080/"
        },
        "outputId": "b3c33f44-9b09-4dcd-b4fd-f26e3bda0962"
      },
      "execution_count": null,
      "outputs": [
        {
          "output_type": "execute_result",
          "data": {
            "text/plain": [
              "['No.', 'Student ID', 'Title', 'Name - Lasname', 'Class', 'WebMail']"
            ]
          },
          "metadata": {},
          "execution_count": 23
        }
      ]
    },
    {
      "cell_type": "code",
      "source": [
        "dataframe.select(['Student ID','Name - Lasname']).show()"
      ],
      "metadata": {
        "colab": {
          "base_uri": "https://localhost:8080/"
        },
        "id": "vlmuf24eUh0I",
        "outputId": "9410203c-108f-4cd4-8495-c51d3af36c6f"
      },
      "execution_count": null,
      "outputs": [
        {
          "output_type": "stream",
          "name": "stdout",
          "text": [
            "+----------+--------------------+\n",
            "|Student ID|      Name - Lasname|\n",
            "+----------+--------------------+\n",
            "|   6413104|    PANFA TONSOMBOON|\n",
            "|   6413108|      PALARP WASUWAT|\n",
            "|   6413213|      TAWANWAD ONNOM|\n",
            "|   6513111|   CHUTIYA THANALUCK|\n",
            "|   6513112|THANAKRIT CHUTIWO...|\n",
            "|   6513114|NIPATSA CHAINIWAT...|\n",
            "|   6513115|    PORAMES AIMLAONG|\n",
            "|   6513118|        PISIT SAEJIA|\n",
            "|   6513121|SUPAKORN THAVORNVONG|\n",
            "|   6513122|SORAWIT PHATTHARA...|\n",
            "|   6513123|   ANAPAT KITSOMMART|\n",
            "|   6513134|   PUTHIPONG YOMABUT|\n",
            "|   6513136|     MAHANNOP THABUA|\n",
            "|   6513160|KUNANONT VUTIPRAS...|\n",
            "|   6513161| JARUPAT CHODSITANAN|\n",
            "|   6513163|    CHALISA BUATHONG|\n",
            "|   6513168| NOPPARUJ RITNATIKUL|\n",
            "|   6513170|   PATIHARN KAMENKIT|\n",
            "|   6513172|PHATTARADANAI SOR...|\n",
            "|   6513174|WATDANAI SANSENAK...|\n",
            "+----------+--------------------+\n",
            "only showing top 20 rows\n",
            "\n"
          ]
        }
      ]
    },
    {
      "cell_type": "code",
      "source": [
        "df_new = dataframe.withColumn('Graduation Year',4-dataframe['class']+2025)"
      ],
      "metadata": {
        "id": "qKlZH7pgU_jg"
      },
      "execution_count": null,
      "outputs": []
    },
    {
      "cell_type": "code",
      "source": [
        "df_new.show()\n"
      ],
      "metadata": {
        "id": "tVH2xH_U5GLo",
        "colab": {
          "base_uri": "https://localhost:8080/"
        },
        "outputId": "7793faec-da03-4a0a-9fd4-9793991df2e9"
      },
      "execution_count": null,
      "outputs": [
        {
          "output_type": "stream",
          "name": "stdout",
          "text": [
            "+---+----------+-----+--------------------+-----+--------------------+---------------+\n",
            "|No.|Student ID|Title|      Name - Lasname|Class|             WebMail|Graduation Year|\n",
            "+---+----------+-----+--------------------+-----+--------------------+---------------+\n",
            "|  1|   6413104|  Ms.|    PANFA TONSOMBOON|    4|panfa.ton@student...|           2025|\n",
            "|  2|   6413108|  Ms.|      PALARP WASUWAT|    4|palarp.was@studen...|           2025|\n",
            "|  3|   6413213|  Ms.|      TAWANWAD ONNOM|    4|tawanwad.onn@stud...|           2025|\n",
            "|  4|   6513111|  Ms.|   CHUTIYA THANALUCK|    3|chutiya.tha@stude...|           2026|\n",
            "|  5|   6513112|  Mr.|THANAKRIT CHUTIWO...|    3|thanakrit.chi@stu...|           2026|\n",
            "|  6|   6513114|  Ms.|NIPATSA CHAINIWAT...|    3|nipatsa.cha@stude...|           2026|\n",
            "|  7|   6513115|  Mr.|    PORAMES AIMLAONG|    3|porames.aim@stude...|           2026|\n",
            "|  8|   6513118|  Mr.|        PISIT SAEJIA|    3|pisit.saa@student...|           2026|\n",
            "|  9|   6513121|  Mr.|SUPAKORN THAVORNVONG|    3|supakorn.thv@stud...|           2026|\n",
            "| 10|   6513122|  Mr.|SORAWIT PHATTHARA...|    3|sorawit.pha@stude...|           2026|\n",
            "| 11|   6513123|  Mr.|   ANAPAT KITSOMMART|    3|anapat.kit@studen...|           2026|\n",
            "| 12|   6513134|  Mr.|   PUTHIPONG YOMABUT|    3|putthipong.yom@st...|           2026|\n",
            "| 13|   6513136|  Mr.|     MAHANNOP THABUA|    3|mahannop.tha@stud...|           2026|\n",
            "| 14|   6513160|  Mr.|KUNANONT VUTIPRAS...|    3|kunanont.vut@stud...|           2026|\n",
            "| 15|   6513161|  Mr.| JARUPAT CHODSITANAN|    3|jarupat.cho@stude...|           2026|\n",
            "| 16|   6513163|  Ms.|    CHALISA BUATHONG|    3|chalisa.bua@stude...|           2026|\n",
            "| 17|   6513168|  Mr.| NOPPARUJ RITNATIKUL|    3|nopparuj.rit@stud...|           2026|\n",
            "| 18|   6513170|  Mr.|   PATIHARN KAMENKIT|    3|patiharn.kam@stud...|           2026|\n",
            "| 19|   6513172|  Mr.|PHATTARADANAI SOR...|    3|phattaradanai.sor...|           2026|\n",
            "| 20|   6513174|  Mr.|WATDANAI SANSENAK...|    3|watdanai.san@stud...|           2026|\n",
            "+---+----------+-----+--------------------+-----+--------------------+---------------+\n",
            "only showing top 20 rows\n",
            "\n"
          ]
        }
      ]
    },
    {
      "cell_type": "code",
      "source": [
        "df_new.createOrReplaceTempView(\"student\")"
      ],
      "metadata": {
        "id": "AU5WzceQWhNT"
      },
      "execution_count": null,
      "outputs": []
    },
    {
      "cell_type": "code",
      "source": [
        "spark.sql('SELECT * FROM student').show()"
      ],
      "metadata": {
        "colab": {
          "base_uri": "https://localhost:8080/"
        },
        "id": "8xQqj8hGXLy9",
        "outputId": "11b9ff53-e43e-444b-8e68-c8371de377e7"
      },
      "execution_count": null,
      "outputs": [
        {
          "output_type": "stream",
          "name": "stdout",
          "text": [
            "+---+----------+-----+--------------------+-----+--------------------+---------------+\n",
            "|No.|Student ID|Title|      Name - Lasname|Class|             WebMail|Graduation Year|\n",
            "+---+----------+-----+--------------------+-----+--------------------+---------------+\n",
            "|  1|   6413104|  Ms.|    PANFA TONSOMBOON|    4|panfa.ton@student...|           2025|\n",
            "|  2|   6413108|  Ms.|      PALARP WASUWAT|    4|palarp.was@studen...|           2025|\n",
            "|  3|   6413213|  Ms.|      TAWANWAD ONNOM|    4|tawanwad.onn@stud...|           2025|\n",
            "|  4|   6513111|  Ms.|   CHUTIYA THANALUCK|    3|chutiya.tha@stude...|           2026|\n",
            "|  5|   6513112|  Mr.|THANAKRIT CHUTIWO...|    3|thanakrit.chi@stu...|           2026|\n",
            "|  6|   6513114|  Ms.|NIPATSA CHAINIWAT...|    3|nipatsa.cha@stude...|           2026|\n",
            "|  7|   6513115|  Mr.|    PORAMES AIMLAONG|    3|porames.aim@stude...|           2026|\n",
            "|  8|   6513118|  Mr.|        PISIT SAEJIA|    3|pisit.saa@student...|           2026|\n",
            "|  9|   6513121|  Mr.|SUPAKORN THAVORNVONG|    3|supakorn.thv@stud...|           2026|\n",
            "| 10|   6513122|  Mr.|SORAWIT PHATTHARA...|    3|sorawit.pha@stude...|           2026|\n",
            "| 11|   6513123|  Mr.|   ANAPAT KITSOMMART|    3|anapat.kit@studen...|           2026|\n",
            "| 12|   6513134|  Mr.|   PUTHIPONG YOMABUT|    3|putthipong.yom@st...|           2026|\n",
            "| 13|   6513136|  Mr.|     MAHANNOP THABUA|    3|mahannop.tha@stud...|           2026|\n",
            "| 14|   6513160|  Mr.|KUNANONT VUTIPRAS...|    3|kunanont.vut@stud...|           2026|\n",
            "| 15|   6513161|  Mr.| JARUPAT CHODSITANAN|    3|jarupat.cho@stude...|           2026|\n",
            "| 16|   6513163|  Ms.|    CHALISA BUATHONG|    3|chalisa.bua@stude...|           2026|\n",
            "| 17|   6513168|  Mr.| NOPPARUJ RITNATIKUL|    3|nopparuj.rit@stud...|           2026|\n",
            "| 18|   6513170|  Mr.|   PATIHARN KAMENKIT|    3|patiharn.kam@stud...|           2026|\n",
            "| 19|   6513172|  Mr.|PHATTARADANAI SOR...|    3|phattaradanai.sor...|           2026|\n",
            "| 20|   6513174|  Mr.|WATDANAI SANSENAK...|    3|watdanai.san@stud...|           2026|\n",
            "+---+----------+-----+--------------------+-----+--------------------+---------------+\n",
            "only showing top 20 rows\n",
            "\n"
          ]
        }
      ]
    },
    {
      "cell_type": "code",
      "source": [
        "spark.sql(\"SELECT * FROM student WHERE Title = 'Ms.'\").show()"
      ],
      "metadata": {
        "colab": {
          "base_uri": "https://localhost:8080/"
        },
        "id": "3RODThndXxqd",
        "outputId": "811629e4-668a-49a4-fbb9-23286a3d8e8b"
      },
      "execution_count": null,
      "outputs": [
        {
          "output_type": "stream",
          "name": "stdout",
          "text": [
            "+---+----------+-----+--------------------+-----+--------------------+---------------+\n",
            "|No.|Student ID|Title|      Name - Lasname|Class|             WebMail|Graduation Year|\n",
            "+---+----------+-----+--------------------+-----+--------------------+---------------+\n",
            "|  1|   6413104|  Ms.|    PANFA TONSOMBOON|    4|panfa.ton@student...|           2025|\n",
            "|  2|   6413108|  Ms.|      PALARP WASUWAT|    4|palarp.was@studen...|           2025|\n",
            "|  3|   6413213|  Ms.|      TAWANWAD ONNOM|    4|tawanwad.onn@stud...|           2025|\n",
            "|  4|   6513111|  Ms.|   CHUTIYA THANALUCK|    3|chutiya.tha@stude...|           2026|\n",
            "|  6|   6513114|  Ms.|NIPATSA CHAINIWAT...|    3|nipatsa.cha@stude...|           2026|\n",
            "| 16|   6513163|  Ms.|    CHALISA BUATHONG|    3|chalisa.bua@stude...|           2026|\n",
            "| 22|   6513178|  Ms.|ANGELINA CHAINITH...|    3|angelina.cha@stud...|           2026|\n",
            "+---+----------+-----+--------------------+-----+--------------------+---------------+\n",
            "\n"
          ]
        }
      ]
    },
    {
      "cell_type": "code",
      "source": [
        "df_new = df_new.withColumnRenamed('Name - Lasname','NameLastname')"
      ],
      "metadata": {
        "id": "_w3sqbpEaCnP"
      },
      "execution_count": null,
      "outputs": []
    },
    {
      "cell_type": "code",
      "source": [
        "df_new.show()"
      ],
      "metadata": {
        "colab": {
          "base_uri": "https://localhost:8080/"
        },
        "id": "VlvZjAM5aSDG",
        "outputId": "11068593-36e8-4ed0-a3db-a4d548eb09c9"
      },
      "execution_count": null,
      "outputs": [
        {
          "output_type": "stream",
          "name": "stdout",
          "text": [
            "+---+----------+-----+--------------------+-----+--------------------+---------------+\n",
            "|No.|Student ID|Title|        NameLastname|Class|             WebMail|Graduation Year|\n",
            "+---+----------+-----+--------------------+-----+--------------------+---------------+\n",
            "|  1|   6413104|  Ms.|    PANFA TONSOMBOON|    4|panfa.ton@student...|           2025|\n",
            "|  2|   6413108|  Ms.|      PALARP WASUWAT|    4|palarp.was@studen...|           2025|\n",
            "|  3|   6413213|  Ms.|      TAWANWAD ONNOM|    4|tawanwad.onn@stud...|           2025|\n",
            "|  4|   6513111|  Ms.|   CHUTIYA THANALUCK|    3|chutiya.tha@stude...|           2026|\n",
            "|  5|   6513112|  Mr.|THANAKRIT CHUTIWO...|    3|thanakrit.chi@stu...|           2026|\n",
            "|  6|   6513114|  Ms.|NIPATSA CHAINIWAT...|    3|nipatsa.cha@stude...|           2026|\n",
            "|  7|   6513115|  Mr.|    PORAMES AIMLAONG|    3|porames.aim@stude...|           2026|\n",
            "|  8|   6513118|  Mr.|        PISIT SAEJIA|    3|pisit.saa@student...|           2026|\n",
            "|  9|   6513121|  Mr.|SUPAKORN THAVORNVONG|    3|supakorn.thv@stud...|           2026|\n",
            "| 10|   6513122|  Mr.|SORAWIT PHATTHARA...|    3|sorawit.pha@stude...|           2026|\n",
            "| 11|   6513123|  Mr.|   ANAPAT KITSOMMART|    3|anapat.kit@studen...|           2026|\n",
            "| 12|   6513134|  Mr.|   PUTHIPONG YOMABUT|    3|putthipong.yom@st...|           2026|\n",
            "| 13|   6513136|  Mr.|     MAHANNOP THABUA|    3|mahannop.tha@stud...|           2026|\n",
            "| 14|   6513160|  Mr.|KUNANONT VUTIPRAS...|    3|kunanont.vut@stud...|           2026|\n",
            "| 15|   6513161|  Mr.| JARUPAT CHODSITANAN|    3|jarupat.cho@stude...|           2026|\n",
            "| 16|   6513163|  Ms.|    CHALISA BUATHONG|    3|chalisa.bua@stude...|           2026|\n",
            "| 17|   6513168|  Mr.| NOPPARUJ RITNATIKUL|    3|nopparuj.rit@stud...|           2026|\n",
            "| 18|   6513170|  Mr.|   PATIHARN KAMENKIT|    3|patiharn.kam@stud...|           2026|\n",
            "| 19|   6513172|  Mr.|PHATTARADANAI SOR...|    3|phattaradanai.sor...|           2026|\n",
            "| 20|   6513174|  Mr.|WATDANAI SANSENAK...|    3|watdanai.san@stud...|           2026|\n",
            "+---+----------+-----+--------------------+-----+--------------------+---------------+\n",
            "only showing top 20 rows\n",
            "\n"
          ]
        }
      ]
    },
    {
      "cell_type": "code",
      "source": [
        "df_new.createOrReplaceTempView(\"student\")"
      ],
      "metadata": {
        "id": "gOoZppplaYnb"
      },
      "execution_count": null,
      "outputs": []
    },
    {
      "cell_type": "code",
      "source": [
        "spark.sql(\"SELECT * FROM student\").show()"
      ],
      "metadata": {
        "colab": {
          "base_uri": "https://localhost:8080/"
        },
        "id": "_X_uV0UaakqU",
        "outputId": "a98af80c-3a84-4e71-d3a1-37c73938011d"
      },
      "execution_count": null,
      "outputs": [
        {
          "output_type": "stream",
          "name": "stdout",
          "text": [
            "+---+----------+-----+--------------------+-----+--------------------+---------------+\n",
            "|No.|Student ID|Title|        NameLastname|Class|             WebMail|Graduation Year|\n",
            "+---+----------+-----+--------------------+-----+--------------------+---------------+\n",
            "|  1|   6413104|  Ms.|    PANFA TONSOMBOON|    4|panfa.ton@student...|           2025|\n",
            "|  2|   6413108|  Ms.|      PALARP WASUWAT|    4|palarp.was@studen...|           2025|\n",
            "|  3|   6413213|  Ms.|      TAWANWAD ONNOM|    4|tawanwad.onn@stud...|           2025|\n",
            "|  4|   6513111|  Ms.|   CHUTIYA THANALUCK|    3|chutiya.tha@stude...|           2026|\n",
            "|  5|   6513112|  Mr.|THANAKRIT CHUTIWO...|    3|thanakrit.chi@stu...|           2026|\n",
            "|  6|   6513114|  Ms.|NIPATSA CHAINIWAT...|    3|nipatsa.cha@stude...|           2026|\n",
            "|  7|   6513115|  Mr.|    PORAMES AIMLAONG|    3|porames.aim@stude...|           2026|\n",
            "|  8|   6513118|  Mr.|        PISIT SAEJIA|    3|pisit.saa@student...|           2026|\n",
            "|  9|   6513121|  Mr.|SUPAKORN THAVORNVONG|    3|supakorn.thv@stud...|           2026|\n",
            "| 10|   6513122|  Mr.|SORAWIT PHATTHARA...|    3|sorawit.pha@stude...|           2026|\n",
            "| 11|   6513123|  Mr.|   ANAPAT KITSOMMART|    3|anapat.kit@studen...|           2026|\n",
            "| 12|   6513134|  Mr.|   PUTHIPONG YOMABUT|    3|putthipong.yom@st...|           2026|\n",
            "| 13|   6513136|  Mr.|     MAHANNOP THABUA|    3|mahannop.tha@stud...|           2026|\n",
            "| 14|   6513160|  Mr.|KUNANONT VUTIPRAS...|    3|kunanont.vut@stud...|           2026|\n",
            "| 15|   6513161|  Mr.| JARUPAT CHODSITANAN|    3|jarupat.cho@stude...|           2026|\n",
            "| 16|   6513163|  Ms.|    CHALISA BUATHONG|    3|chalisa.bua@stude...|           2026|\n",
            "| 17|   6513168|  Mr.| NOPPARUJ RITNATIKUL|    3|nopparuj.rit@stud...|           2026|\n",
            "| 18|   6513170|  Mr.|   PATIHARN KAMENKIT|    3|patiharn.kam@stud...|           2026|\n",
            "| 19|   6513172|  Mr.|PHATTARADANAI SOR...|    3|phattaradanai.sor...|           2026|\n",
            "| 20|   6513174|  Mr.|WATDANAI SANSENAK...|    3|watdanai.san@stud...|           2026|\n",
            "+---+----------+-----+--------------------+-----+--------------------+---------------+\n",
            "only showing top 20 rows\n",
            "\n"
          ]
        }
      ]
    },
    {
      "cell_type": "code",
      "source": [
        "spark.sql(\n",
        "    \"\"\"\n",
        "    SELECT * FROM student\n",
        "    WHERE Title = 'Ms.'\n",
        "    ORDER BY NameLastname\n",
        "    \"\"\"\n",
        "    ).show()"
      ],
      "metadata": {
        "colab": {
          "base_uri": "https://localhost:8080/"
        },
        "id": "EBGh2vlMZoOl",
        "outputId": "938d8e6e-1c35-429b-af49-c206a4774491"
      },
      "execution_count": null,
      "outputs": [
        {
          "output_type": "stream",
          "name": "stdout",
          "text": [
            "+---+----------+-----+--------------------+-----+--------------------+---------------+\n",
            "|No.|Student ID|Title|        NameLastname|Class|             WebMail|Graduation Year|\n",
            "+---+----------+-----+--------------------+-----+--------------------+---------------+\n",
            "| 22|   6513178|  Ms.|ANGELINA CHAINITH...|    3|angelina.cha@stud...|           2026|\n",
            "| 16|   6513163|  Ms.|    CHALISA BUATHONG|    3|chalisa.bua@stude...|           2026|\n",
            "|  4|   6513111|  Ms.|   CHUTIYA THANALUCK|    3|chutiya.tha@stude...|           2026|\n",
            "|  6|   6513114|  Ms.|NIPATSA CHAINIWAT...|    3|nipatsa.cha@stude...|           2026|\n",
            "|  2|   6413108|  Ms.|      PALARP WASUWAT|    4|palarp.was@studen...|           2025|\n",
            "|  1|   6413104|  Ms.|    PANFA TONSOMBOON|    4|panfa.ton@student...|           2025|\n",
            "|  3|   6413213|  Ms.|      TAWANWAD ONNOM|    4|tawanwad.onn@stud...|           2025|\n",
            "+---+----------+-----+--------------------+-----+--------------------+---------------+\n",
            "\n"
          ]
        }
      ]
    },
    {
      "cell_type": "code",
      "source": [
        "df_new.filter(df_new['Title']=='Ms.').sort(\"NameLastname\").show()"
      ],
      "metadata": {
        "colab": {
          "base_uri": "https://localhost:8080/"
        },
        "id": "Jqe9dSYebui5",
        "outputId": "bcaed0c6-c5ae-4e87-a5af-dba4ea96e7f6"
      },
      "execution_count": null,
      "outputs": [
        {
          "output_type": "stream",
          "name": "stdout",
          "text": [
            "+---+----------+-----+--------------------+-----+--------------------+---------------+\n",
            "|No.|Student ID|Title|        NameLastname|Class|             WebMail|Graduation Year|\n",
            "+---+----------+-----+--------------------+-----+--------------------+---------------+\n",
            "| 22|   6513178|  Ms.|ANGELINA CHAINITH...|    3|angelina.cha@stud...|           2026|\n",
            "| 16|   6513163|  Ms.|    CHALISA BUATHONG|    3|chalisa.bua@stude...|           2026|\n",
            "|  4|   6513111|  Ms.|   CHUTIYA THANALUCK|    3|chutiya.tha@stude...|           2026|\n",
            "|  6|   6513114|  Ms.|NIPATSA CHAINIWAT...|    3|nipatsa.cha@stude...|           2026|\n",
            "|  2|   6413108|  Ms.|      PALARP WASUWAT|    4|palarp.was@studen...|           2025|\n",
            "|  1|   6413104|  Ms.|    PANFA TONSOMBOON|    4|panfa.ton@student...|           2025|\n",
            "|  3|   6413213|  Ms.|      TAWANWAD ONNOM|    4|tawanwad.onn@stud...|           2025|\n",
            "+---+----------+-----+--------------------+-----+--------------------+---------------+\n",
            "\n"
          ]
        }
      ]
    },
    {
      "cell_type": "code",
      "source": [
        "df_new = df_new.drop('No.')"
      ],
      "metadata": {
        "id": "7pCAbKwDfOu8"
      },
      "execution_count": null,
      "outputs": []
    },
    {
      "cell_type": "code",
      "source": [
        "df_new.show()"
      ],
      "metadata": {
        "colab": {
          "base_uri": "https://localhost:8080/"
        },
        "id": "zW79NHllfVTI",
        "outputId": "922fc741-0caf-4f65-9d67-174a8e731f20"
      },
      "execution_count": null,
      "outputs": [
        {
          "output_type": "stream",
          "name": "stdout",
          "text": [
            "+----------+-----+--------------------+-----+--------------------+---------------+\n",
            "|Student ID|Title|        NameLastname|Class|             WebMail|Graduation Year|\n",
            "+----------+-----+--------------------+-----+--------------------+---------------+\n",
            "|   6413104|  Ms.|    PANFA TONSOMBOON|    4|panfa.ton@student...|           2025|\n",
            "|   6413108|  Ms.|      PALARP WASUWAT|    4|palarp.was@studen...|           2025|\n",
            "|   6413213|  Ms.|      TAWANWAD ONNOM|    4|tawanwad.onn@stud...|           2025|\n",
            "|   6513111|  Ms.|   CHUTIYA THANALUCK|    3|chutiya.tha@stude...|           2026|\n",
            "|   6513112|  Mr.|THANAKRIT CHUTIWO...|    3|thanakrit.chi@stu...|           2026|\n",
            "|   6513114|  Ms.|NIPATSA CHAINIWAT...|    3|nipatsa.cha@stude...|           2026|\n",
            "|   6513115|  Mr.|    PORAMES AIMLAONG|    3|porames.aim@stude...|           2026|\n",
            "|   6513118|  Mr.|        PISIT SAEJIA|    3|pisit.saa@student...|           2026|\n",
            "|   6513121|  Mr.|SUPAKORN THAVORNVONG|    3|supakorn.thv@stud...|           2026|\n",
            "|   6513122|  Mr.|SORAWIT PHATTHARA...|    3|sorawit.pha@stude...|           2026|\n",
            "|   6513123|  Mr.|   ANAPAT KITSOMMART|    3|anapat.kit@studen...|           2026|\n",
            "|   6513134|  Mr.|   PUTHIPONG YOMABUT|    3|putthipong.yom@st...|           2026|\n",
            "|   6513136|  Mr.|     MAHANNOP THABUA|    3|mahannop.tha@stud...|           2026|\n",
            "|   6513160|  Mr.|KUNANONT VUTIPRAS...|    3|kunanont.vut@stud...|           2026|\n",
            "|   6513161|  Mr.| JARUPAT CHODSITANAN|    3|jarupat.cho@stude...|           2026|\n",
            "|   6513163|  Ms.|    CHALISA BUATHONG|    3|chalisa.bua@stude...|           2026|\n",
            "|   6513168|  Mr.| NOPPARUJ RITNATIKUL|    3|nopparuj.rit@stud...|           2026|\n",
            "|   6513170|  Mr.|   PATIHARN KAMENKIT|    3|patiharn.kam@stud...|           2026|\n",
            "|   6513172|  Mr.|PHATTARADANAI SOR...|    3|phattaradanai.sor...|           2026|\n",
            "|   6513174|  Mr.|WATDANAI SANSENAK...|    3|watdanai.san@stud...|           2026|\n",
            "+----------+-----+--------------------+-----+--------------------+---------------+\n",
            "only showing top 20 rows\n",
            "\n"
          ]
        }
      ]
    },
    {
      "cell_type": "code",
      "source": [
        "from pyspark.sql.functions import avg\n",
        "df_new.select(avg(df_new[\"Graduation Year\"])).show()\n"
      ],
      "metadata": {
        "id": "VyYxYH7B8jsv",
        "colab": {
          "base_uri": "https://localhost:8080/"
        },
        "outputId": "da81c716-bbff-4da1-b6d5-72c9f156d808"
      },
      "execution_count": null,
      "outputs": [
        {
          "output_type": "stream",
          "name": "stdout",
          "text": [
            "+--------------------+\n",
            "|avg(Graduation Year)|\n",
            "+--------------------+\n",
            "|  2025.8636363636363|\n",
            "+--------------------+\n",
            "\n"
          ]
        }
      ]
    },
    {
      "cell_type": "code",
      "source": [
        "spark.sql(\"SELECT * FROM student\").show()"
      ],
      "metadata": {
        "colab": {
          "base_uri": "https://localhost:8080/"
        },
        "id": "wGHm8qh8hKLc",
        "outputId": "ef29498b-e4d0-4cdd-9feb-17cb4aca7a50"
      },
      "execution_count": null,
      "outputs": [
        {
          "output_type": "stream",
          "name": "stdout",
          "text": [
            "+---+----------+-----+--------------------+-----+--------------------+---------------+\n",
            "|No.|Student ID|Title|        NameLastname|Class|             WebMail|Graduation Year|\n",
            "+---+----------+-----+--------------------+-----+--------------------+---------------+\n",
            "|  1|   6413104|  Ms.|    PANFA TONSOMBOON|    4|panfa.ton@student...|           2025|\n",
            "|  2|   6413108|  Ms.|      PALARP WASUWAT|    4|palarp.was@studen...|           2025|\n",
            "|  3|   6413213|  Ms.|      TAWANWAD ONNOM|    4|tawanwad.onn@stud...|           2025|\n",
            "|  4|   6513111|  Ms.|   CHUTIYA THANALUCK|    3|chutiya.tha@stude...|           2026|\n",
            "|  5|   6513112|  Mr.|THANAKRIT CHUTIWO...|    3|thanakrit.chi@stu...|           2026|\n",
            "|  6|   6513114|  Ms.|NIPATSA CHAINIWAT...|    3|nipatsa.cha@stude...|           2026|\n",
            "|  7|   6513115|  Mr.|    PORAMES AIMLAONG|    3|porames.aim@stude...|           2026|\n",
            "|  8|   6513118|  Mr.|        PISIT SAEJIA|    3|pisit.saa@student...|           2026|\n",
            "|  9|   6513121|  Mr.|SUPAKORN THAVORNVONG|    3|supakorn.thv@stud...|           2026|\n",
            "| 10|   6513122|  Mr.|SORAWIT PHATTHARA...|    3|sorawit.pha@stude...|           2026|\n",
            "| 11|   6513123|  Mr.|   ANAPAT KITSOMMART|    3|anapat.kit@studen...|           2026|\n",
            "| 12|   6513134|  Mr.|   PUTHIPONG YOMABUT|    3|putthipong.yom@st...|           2026|\n",
            "| 13|   6513136|  Mr.|     MAHANNOP THABUA|    3|mahannop.tha@stud...|           2026|\n",
            "| 14|   6513160|  Mr.|KUNANONT VUTIPRAS...|    3|kunanont.vut@stud...|           2026|\n",
            "| 15|   6513161|  Mr.| JARUPAT CHODSITANAN|    3|jarupat.cho@stude...|           2026|\n",
            "| 16|   6513163|  Ms.|    CHALISA BUATHONG|    3|chalisa.bua@stude...|           2026|\n",
            "| 17|   6513168|  Mr.| NOPPARUJ RITNATIKUL|    3|nopparuj.rit@stud...|           2026|\n",
            "| 18|   6513170|  Mr.|   PATIHARN KAMENKIT|    3|patiharn.kam@stud...|           2026|\n",
            "| 19|   6513172|  Mr.|PHATTARADANAI SOR...|    3|phattaradanai.sor...|           2026|\n",
            "| 20|   6513174|  Mr.|WATDANAI SANSENAK...|    3|watdanai.san@stud...|           2026|\n",
            "+---+----------+-----+--------------------+-----+--------------------+---------------+\n",
            "only showing top 20 rows\n",
            "\n"
          ]
        }
      ]
    },
    {
      "cell_type": "code",
      "source": [
        "spark.sql(\n",
        "    \"\"\"\n",
        "    SELECT AVG(`Graduation Year`) FROM student\n",
        "    \"\"\"\n",
        ").show()"
      ],
      "metadata": {
        "colab": {
          "base_uri": "https://localhost:8080/"
        },
        "id": "C8qy87fcgz1h",
        "outputId": "12f71a2f-a592-4449-85a0-f5a5e3a6a870"
      },
      "execution_count": null,
      "outputs": [
        {
          "output_type": "stream",
          "name": "stdout",
          "text": [
            "+--------------------+\n",
            "|avg(Graduation Year)|\n",
            "+--------------------+\n",
            "|  2025.8636363636363|\n",
            "+--------------------+\n",
            "\n"
          ]
        }
      ]
    },
    {
      "cell_type": "code",
      "source": [
        "df_new.groupby('Class').avg('Graduation Year').show()\n"
      ],
      "metadata": {
        "colab": {
          "base_uri": "https://localhost:8080/"
        },
        "id": "o0RnmzvGgGBi",
        "outputId": "38f99132-669d-4e30-eedb-636bec76eca5"
      },
      "execution_count": null,
      "outputs": [
        {
          "output_type": "stream",
          "name": "stdout",
          "text": [
            "+-----+--------------------+\n",
            "|Class|avg(Graduation Year)|\n",
            "+-----+--------------------+\n",
            "|    3|              2026.0|\n",
            "|    4|              2025.0|\n",
            "+-----+--------------------+\n",
            "\n"
          ]
        }
      ]
    },
    {
      "cell_type": "code",
      "source": [
        "spark.sql(\n",
        "    \"\"\"\n",
        "    SELECT Class, AVG(`Graduation Year`) FROM student\n",
        "    GROUP BY Class\n",
        "    \"\"\"\n",
        ").show()"
      ],
      "metadata": {
        "colab": {
          "base_uri": "https://localhost:8080/"
        },
        "id": "DApvmmj7hfS4",
        "outputId": "5bdcd9d9-b620-42e0-db01-facfce583716"
      },
      "execution_count": null,
      "outputs": [
        {
          "output_type": "stream",
          "name": "stdout",
          "text": [
            "+-----+--------------------+\n",
            "|Class|avg(Graduation Year)|\n",
            "+-----+--------------------+\n",
            "|    3|              2026.0|\n",
            "|    4|              2025.0|\n",
            "+-----+--------------------+\n",
            "\n"
          ]
        }
      ]
    },
    {
      "cell_type": "code",
      "source": [
        "df=df_new.na.drop()\n",
        "df.show()"
      ],
      "metadata": {
        "id": "ibM5F_fi9K9P"
      },
      "execution_count": null,
      "outputs": []
    },
    {
      "cell_type": "code",
      "source": [
        "from pyspark.sql.functions import udf\n"
      ],
      "metadata": {
        "id": "DXrBX5Si9GSn"
      },
      "execution_count": null,
      "outputs": []
    },
    {
      "cell_type": "code",
      "source": [
        "def UpperCase(str):\n",
        "  return str.upper()"
      ],
      "metadata": {
        "id": "VyN9v--aBwrv"
      },
      "execution_count": null,
      "outputs": []
    },
    {
      "cell_type": "code",
      "source": [
        "upperCaseUDF=udf(lambda z: UpperCase(z))"
      ],
      "metadata": {
        "id": "8QlBIw5HBzUo"
      },
      "execution_count": null,
      "outputs": []
    },
    {
      "cell_type": "code",
      "source": [
        "df_new.withColumn(\"Uppercase Name\",upperCaseUDF(\"NameLastname\")).show()"
      ],
      "metadata": {
        "colab": {
          "base_uri": "https://localhost:8080/"
        },
        "id": "js2M4E4wB13P",
        "outputId": "ed7be223-7e48-4601-828c-76106b87d2f6"
      },
      "execution_count": null,
      "outputs": [
        {
          "output_type": "stream",
          "name": "stdout",
          "text": [
            "+----------+-----+--------------------+-----+--------------------+---------------+--------------------+\n",
            "|Student ID|Title|        NameLastname|Class|             WebMail|Graduation Year|      Uppercase Name|\n",
            "+----------+-----+--------------------+-----+--------------------+---------------+--------------------+\n",
            "|   6413104|  Ms.|    PANFA TONSOMBOON|    4|panfa.ton@student...|           2025|    PANFA TONSOMBOON|\n",
            "|   6413108|  Ms.|      PALARP WASUWAT|    4|palarp.was@studen...|           2025|      PALARP WASUWAT|\n",
            "|   6413213|  Ms.|      TAWANWAD ONNOM|    4|tawanwad.onn@stud...|           2025|      TAWANWAD ONNOM|\n",
            "|   6513111|  Ms.|   CHUTIYA THANALUCK|    3|chutiya.tha@stude...|           2026|   CHUTIYA THANALUCK|\n",
            "|   6513112|  Mr.|THANAKRIT CHUTIWO...|    3|thanakrit.chi@stu...|           2026|THANAKRIT CHUTIWO...|\n",
            "|   6513114|  Ms.|NIPATSA CHAINIWAT...|    3|nipatsa.cha@stude...|           2026|NIPATSA CHAINIWAT...|\n",
            "|   6513115|  Mr.|    PORAMES AIMLAONG|    3|porames.aim@stude...|           2026|    PORAMES AIMLAONG|\n",
            "|   6513118|  Mr.|        PISIT SAEJIA|    3|pisit.saa@student...|           2026|        PISIT SAEJIA|\n",
            "|   6513121|  Mr.|SUPAKORN THAVORNVONG|    3|supakorn.thv@stud...|           2026|SUPAKORN THAVORNVONG|\n",
            "|   6513122|  Mr.|SORAWIT PHATTHARA...|    3|sorawit.pha@stude...|           2026|SORAWIT PHATTHARA...|\n",
            "|   6513123|  Mr.|   ANAPAT KITSOMMART|    3|anapat.kit@studen...|           2026|   ANAPAT KITSOMMART|\n",
            "|   6513134|  Mr.|   PUTHIPONG YOMABUT|    3|putthipong.yom@st...|           2026|   PUTHIPONG YOMABUT|\n",
            "|   6513136|  Mr.|     MAHANNOP THABUA|    3|mahannop.tha@stud...|           2026|     MAHANNOP THABUA|\n",
            "|   6513160|  Mr.|KUNANONT VUTIPRAS...|    3|kunanont.vut@stud...|           2026|KUNANONT VUTIPRAS...|\n",
            "|   6513161|  Mr.| JARUPAT CHODSITANAN|    3|jarupat.cho@stude...|           2026| JARUPAT CHODSITANAN|\n",
            "|   6513163|  Ms.|    CHALISA BUATHONG|    3|chalisa.bua@stude...|           2026|    CHALISA BUATHONG|\n",
            "|   6513168|  Mr.| NOPPARUJ RITNATIKUL|    3|nopparuj.rit@stud...|           2026| NOPPARUJ RITNATIKUL|\n",
            "|   6513170|  Mr.|   PATIHARN KAMENKIT|    3|patiharn.kam@stud...|           2026|   PATIHARN KAMENKIT|\n",
            "|   6513172|  Mr.|PHATTARADANAI SOR...|    3|phattaradanai.sor...|           2026|PHATTARADANAI SOR...|\n",
            "|   6513174|  Mr.|WATDANAI SANSENAK...|    3|watdanai.san@stud...|           2026|WATDANAI SANSENAK...|\n",
            "+----------+-----+--------------------+-----+--------------------+---------------+--------------------+\n",
            "only showing top 20 rows\n",
            "\n"
          ]
        }
      ]
    },
    {
      "cell_type": "code",
      "source": [
        "def LowerCase(str):\n",
        "  return str.lower()"
      ],
      "metadata": {
        "id": "QY2bD6xCihjj"
      },
      "execution_count": null,
      "outputs": []
    },
    {
      "cell_type": "code",
      "source": [
        "lowerCaseUDF=udf(lambda z: LowerCase(z))"
      ],
      "metadata": {
        "id": "kamL2AFlinwc"
      },
      "execution_count": null,
      "outputs": []
    },
    {
      "cell_type": "code",
      "source": [
        "df_new.withColumn(\"Lowercase Name\",lowerCaseUDF(\"NameLastname\")).show()"
      ],
      "metadata": {
        "colab": {
          "base_uri": "https://localhost:8080/"
        },
        "id": "nDiz1gcAixje",
        "outputId": "b014c156-88a7-44d2-f790-f73bf926805e"
      },
      "execution_count": null,
      "outputs": [
        {
          "output_type": "stream",
          "name": "stdout",
          "text": [
            "+----------+-----+--------------------+-----+--------------------+---------------+--------------------+\n",
            "|Student ID|Title|        NameLastname|Class|             WebMail|Graduation Year|      Lowercase Name|\n",
            "+----------+-----+--------------------+-----+--------------------+---------------+--------------------+\n",
            "|   6413104|  Ms.|    PANFA TONSOMBOON|    4|panfa.ton@student...|           2025|    panfa tonsomboon|\n",
            "|   6413108|  Ms.|      PALARP WASUWAT|    4|palarp.was@studen...|           2025|      palarp wasuwat|\n",
            "|   6413213|  Ms.|      TAWANWAD ONNOM|    4|tawanwad.onn@stud...|           2025|      tawanwad onnom|\n",
            "|   6513111|  Ms.|   CHUTIYA THANALUCK|    3|chutiya.tha@stude...|           2026|   chutiya thanaluck|\n",
            "|   6513112|  Mr.|THANAKRIT CHUTIWO...|    3|thanakrit.chi@stu...|           2026|thanakrit chutiwo...|\n",
            "|   6513114|  Ms.|NIPATSA CHAINIWAT...|    3|nipatsa.cha@stude...|           2026|nipatsa chainiwat...|\n",
            "|   6513115|  Mr.|    PORAMES AIMLAONG|    3|porames.aim@stude...|           2026|    porames aimlaong|\n",
            "|   6513118|  Mr.|        PISIT SAEJIA|    3|pisit.saa@student...|           2026|        pisit saejia|\n",
            "|   6513121|  Mr.|SUPAKORN THAVORNVONG|    3|supakorn.thv@stud...|           2026|supakorn thavornvong|\n",
            "|   6513122|  Mr.|SORAWIT PHATTHARA...|    3|sorawit.pha@stude...|           2026|sorawit phatthara...|\n",
            "|   6513123|  Mr.|   ANAPAT KITSOMMART|    3|anapat.kit@studen...|           2026|   anapat kitsommart|\n",
            "|   6513134|  Mr.|   PUTHIPONG YOMABUT|    3|putthipong.yom@st...|           2026|   puthipong yomabut|\n",
            "|   6513136|  Mr.|     MAHANNOP THABUA|    3|mahannop.tha@stud...|           2026|     mahannop thabua|\n",
            "|   6513160|  Mr.|KUNANONT VUTIPRAS...|    3|kunanont.vut@stud...|           2026|kunanont vutipras...|\n",
            "|   6513161|  Mr.| JARUPAT CHODSITANAN|    3|jarupat.cho@stude...|           2026| jarupat chodsitanan|\n",
            "|   6513163|  Ms.|    CHALISA BUATHONG|    3|chalisa.bua@stude...|           2026|    chalisa buathong|\n",
            "|   6513168|  Mr.| NOPPARUJ RITNATIKUL|    3|nopparuj.rit@stud...|           2026| nopparuj ritnatikul|\n",
            "|   6513170|  Mr.|   PATIHARN KAMENKIT|    3|patiharn.kam@stud...|           2026|   patiharn kamenkit|\n",
            "|   6513172|  Mr.|PHATTARADANAI SOR...|    3|phattaradanai.sor...|           2026|phattaradanai sor...|\n",
            "|   6513174|  Mr.|WATDANAI SANSENAK...|    3|watdanai.san@stud...|           2026|watdanai sansenak...|\n",
            "+----------+-----+--------------------+-----+--------------------+---------------+--------------------+\n",
            "only showing top 20 rows\n",
            "\n"
          ]
        }
      ]
    },
    {
      "cell_type": "markdown",
      "source": [
        "# **Exercise 1**:** Explore the data using DataFrame** functions and SparkSQL\n",
        "\n",
        "\n",
        "\n",
        "\n",
        "In this section, we explore the datasets using functions both from dataframes as well as corresponding SQL queries using sparksql. Note the different ways to achieve the same task!# New Section"
      ],
      "metadata": {
        "id": "zlHD7jAZSCuj"
      }
    },
    {
      "cell_type": "code",
      "source": [
        "#  Exercise 1 Select and show basic data columns\n",
        "df = spark.read.json('people.json')\n",
        "df.show()"
      ],
      "metadata": {
        "colab": {
          "base_uri": "https://localhost:8080/"
        },
        "id": "JAIvIVe3SHZn",
        "outputId": "17ca372c-dabd-4d12-f265-8e2abf032b63"
      },
      "execution_count": null,
      "outputs": [
        {
          "output_type": "stream",
          "name": "stdout",
          "text": [
            "+----+----+---------+\n",
            "| age| gpa|     name|\n",
            "+----+----+---------+\n",
            "|NULL|NULL|  Krisada|\n",
            "|  30|NULL|   Pradya|\n",
            "|  19|NULL|   Justin|\n",
            "|NULL| 3.9|Teeravach|\n",
            "+----+----+---------+\n",
            "\n"
          ]
        }
      ]
    },
    {
      "cell_type": "code",
      "source": [
        "df.select('age').show()"
      ],
      "metadata": {
        "colab": {
          "base_uri": "https://localhost:8080/"
        },
        "id": "42IXS76flmFB",
        "outputId": "8a011be7-c29b-4cad-85fd-0b345ffaf6bb"
      },
      "execution_count": null,
      "outputs": [
        {
          "output_type": "stream",
          "name": "stdout",
          "text": [
            "+----+\n",
            "| age|\n",
            "+----+\n",
            "|NULL|\n",
            "|  30|\n",
            "|  19|\n",
            "|NULL|\n",
            "+----+\n",
            "\n"
          ]
        }
      ]
    },
    {
      "cell_type": "code",
      "source": [
        "df.select('name').show()"
      ],
      "metadata": {
        "colab": {
          "base_uri": "https://localhost:8080/"
        },
        "id": "0NJMJJfgl1jD",
        "outputId": "715e178c-69d6-470d-c42d-eab196e7c2b2"
      },
      "execution_count": null,
      "outputs": [
        {
          "output_type": "stream",
          "name": "stdout",
          "text": [
            "+---------+\n",
            "|     name|\n",
            "+---------+\n",
            "|  Krisada|\n",
            "|   Pradya|\n",
            "|   Justin|\n",
            "|Teeravach|\n",
            "+---------+\n",
            "\n"
          ]
        }
      ]
    },
    {
      "cell_type": "code",
      "source": [
        "spark.sql('SELECT age FROM people').show()"
      ],
      "metadata": {
        "colab": {
          "base_uri": "https://localhost:8080/"
        },
        "id": "HqKt7aSRl-No",
        "outputId": "fca2f7cb-6e09-4c00-8726-7ac6a4e6bc4c"
      },
      "execution_count": null,
      "outputs": [
        {
          "output_type": "stream",
          "name": "stdout",
          "text": [
            "+----+\n",
            "| age|\n",
            "+----+\n",
            "|NULL|\n",
            "|  30|\n",
            "|  19|\n",
            "|NULL|\n",
            "+----+\n",
            "\n"
          ]
        }
      ]
    },
    {
      "cell_type": "code",
      "source": [
        "spark.sql('SELECT name FROM people').show()"
      ],
      "metadata": {
        "colab": {
          "base_uri": "https://localhost:8080/"
        },
        "id": "0GUW6jiimDOp",
        "outputId": "892b3821-4226-4994-f245-4b3adc60c106"
      },
      "execution_count": null,
      "outputs": [
        {
          "output_type": "stream",
          "name": "stdout",
          "text": [
            "+---------+\n",
            "|     name|\n",
            "+---------+\n",
            "|  Krisada|\n",
            "|   Pradya|\n",
            "|   Justin|\n",
            "|Teeravach|\n",
            "+---------+\n",
            "\n"
          ]
        }
      ]
    },
    {
      "cell_type": "code",
      "source": [
        "# #Exercise 2 Register the DataFrame as a SQL temporary view\n",
        "df.createOrReplaceTempView('people')"
      ],
      "metadata": {
        "id": "YE5oBcKJfpT7"
      },
      "execution_count": null,
      "outputs": []
    },
    {
      "cell_type": "code",
      "source": [
        "spark.sql(\"SELECT name,age FROM people\").show()"
      ],
      "metadata": {
        "colab": {
          "base_uri": "https://localhost:8080/"
        },
        "id": "5KJ99QVP-7au",
        "outputId": "7a75c23d-32b2-4fa9-93df-fe0a1581cfd3"
      },
      "execution_count": null,
      "outputs": [
        {
          "output_type": "stream",
          "name": "stdout",
          "text": [
            "+---------+----+\n",
            "|     name| age|\n",
            "+---------+----+\n",
            "|  Krisada|NULL|\n",
            "|   Pradya|  30|\n",
            "|   Justin|  19|\n",
            "|Teeravach|NULL|\n",
            "+---------+----+\n",
            "\n"
          ]
        }
      ]
    },
    {
      "cell_type": "code",
      "source": [
        "df.sort(\"age\").show()\n",
        "spark.sql(\"SELECT * FROM people order by age desc\").show()"
      ],
      "metadata": {
        "colab": {
          "base_uri": "https://localhost:8080/"
        },
        "id": "9JI0Rp8vi4g0",
        "outputId": "6c32d296-64b8-4b7b-a753-0ae750c72a4c"
      },
      "execution_count": null,
      "outputs": [
        {
          "output_type": "stream",
          "name": "stdout",
          "text": [
            "+----+----+---------+\n",
            "| age| gpa|     name|\n",
            "+----+----+---------+\n",
            "|NULL|NULL|  Krisada|\n",
            "|NULL| 3.9|Teeravach|\n",
            "|  19|NULL|   Justin|\n",
            "|  30|NULL|   Pradya|\n",
            "+----+----+---------+\n",
            "\n",
            "+----+----+---------+\n",
            "| age| gpa|     name|\n",
            "+----+----+---------+\n",
            "|  30|NULL|   Pradya|\n",
            "|  19|NULL|   Justin|\n",
            "|NULL|NULL|  Krisada|\n",
            "|NULL| 3.9|Teeravach|\n",
            "+----+----+---------+\n",
            "\n"
          ]
        }
      ]
    },
    {
      "cell_type": "code",
      "source": [
        "df.withColumnRenamed('name','Students_name').show()"
      ],
      "metadata": {
        "colab": {
          "base_uri": "https://localhost:8080/"
        },
        "id": "-lCcJCvPAcQ-",
        "outputId": "28f7a2e3-1ca7-4f94-bf15-58b26b362364"
      },
      "execution_count": null,
      "outputs": [
        {
          "output_type": "stream",
          "name": "stdout",
          "text": [
            "+----+----+-------------+\n",
            "| age| gpa|Students_name|\n",
            "+----+----+-------------+\n",
            "|NULL|NULL|      Krisada|\n",
            "|  30|NULL|       Pradya|\n",
            "|  19|NULL|       Justin|\n",
            "|NULL| 3.9|    Teeravach|\n",
            "+----+----+-------------+\n",
            "\n"
          ]
        }
      ]
    },
    {
      "cell_type": "code",
      "source": [
        "df.withColumnRenamed('Students_name','name').show()"
      ],
      "metadata": {
        "colab": {
          "base_uri": "https://localhost:8080/"
        },
        "id": "9NgunCEdAhSY",
        "outputId": "d7ff29b5-b2ce-45fe-d36f-818f3fa7946c"
      },
      "execution_count": null,
      "outputs": [
        {
          "output_type": "stream",
          "name": "stdout",
          "text": [
            "+----+----+---------+\n",
            "| age| gpa|     name|\n",
            "+----+----+---------+\n",
            "|NULL|NULL|  Krisada|\n",
            "|  30|NULL|   Pradya|\n",
            "|  19|NULL|   Justin|\n",
            "|NULL| 3.9|Teeravach|\n",
            "+----+----+---------+\n",
            "\n"
          ]
        }
      ]
    },
    {
      "cell_type": "code",
      "source": [
        "df_new=df.withColumn('Graduation age',df['age']+1)\n",
        "df_new.show()\n"
      ],
      "metadata": {
        "colab": {
          "base_uri": "https://localhost:8080/"
        },
        "id": "fxIJdmb4AvON",
        "outputId": "b2b7596d-44e9-4e91-d142-1206f26f613b"
      },
      "execution_count": null,
      "outputs": [
        {
          "output_type": "stream",
          "name": "stdout",
          "text": [
            "+----+----+---------+--------------+\n",
            "| age| gpa|     name|Graduation age|\n",
            "+----+----+---------+--------------+\n",
            "|NULL|NULL|  Krisada|          NULL|\n",
            "|  30|NULL|   Pradya|            31|\n",
            "|  19|NULL|   Justin|            20|\n",
            "|NULL| 3.9|Teeravach|          NULL|\n",
            "+----+----+---------+--------------+\n",
            "\n"
          ]
        }
      ]
    },
    {
      "cell_type": "code",
      "source": [
        "df_new.drop('Graduation age').show()"
      ],
      "metadata": {
        "colab": {
          "base_uri": "https://localhost:8080/"
        },
        "id": "-XVe82RrBImB",
        "outputId": "accbebe1-70cf-4236-84c7-b4e12c50afd7"
      },
      "execution_count": null,
      "outputs": [
        {
          "output_type": "stream",
          "name": "stdout",
          "text": [
            "+----+----+---------+\n",
            "| age| gpa|     name|\n",
            "+----+----+---------+\n",
            "|NULL|NULL|  Krisada|\n",
            "|  30|NULL|   Pradya|\n",
            "|  19|NULL|   Justin|\n",
            "|NULL| 3.9|Teeravach|\n",
            "+----+----+---------+\n",
            "\n"
          ]
        }
      ]
    },
    {
      "cell_type": "code",
      "source": [
        "# Exercise 3 Perform basic filtering (Find only the person age >20)\n",
        "df_new.filter(df_new['age']>20).show()\n"
      ],
      "metadata": {
        "colab": {
          "base_uri": "https://localhost:8080/"
        },
        "id": "F9Y6ADpYSJcq",
        "outputId": "710109ca-cced-42b3-b92c-45c664c110bd"
      },
      "execution_count": null,
      "outputs": [
        {
          "output_type": "stream",
          "name": "stdout",
          "text": [
            "+---+----+------+--------------+\n",
            "|age| gpa|  name|Graduation age|\n",
            "+---+----+------+--------------+\n",
            "| 30|NULL|Pradya|            31|\n",
            "+---+----+------+--------------+\n",
            "\n"
          ]
        }
      ]
    },
    {
      "cell_type": "code",
      "source": [
        "# Perfom basic aggregation of data\n",
        "df.groupBy(\"age\").count().show()\n",
        "spark.sql(\"SELECT age, COUNT(age) as count FROM people GROUP BY age\").show()"
      ],
      "metadata": {
        "colab": {
          "base_uri": "https://localhost:8080/"
        },
        "id": "WdGt_ffySS6m",
        "outputId": "6af4ac09-2518-4b70-967f-3f4ec0eabced"
      },
      "execution_count": null,
      "outputs": [
        {
          "output_type": "stream",
          "name": "stdout",
          "text": [
            "+----+-----+\n",
            "| age|count|\n",
            "+----+-----+\n",
            "|  19|    1|\n",
            "|NULL|    2|\n",
            "|  30|    1|\n",
            "+----+-----+\n",
            "\n",
            "+----+-----+\n",
            "| age|count|\n",
            "+----+-----+\n",
            "|  19|    1|\n",
            "|NULL|    0|\n",
            "|  30|    1|\n",
            "+----+-----+\n",
            "\n"
          ]
        }
      ]
    },
    {
      "cell_type": "code",
      "source": [
        "##Exercise 3 try with a count number of people with 2 different type of commands\n",
        "df.count()"
      ],
      "metadata": {
        "id": "CkfoLC4lrCQ2",
        "colab": {
          "base_uri": "https://localhost:8080/"
        },
        "outputId": "7655aab3-5bee-4d4d-e010-4eded7cbb47e"
      },
      "execution_count": null,
      "outputs": [
        {
          "output_type": "execute_result",
          "data": {
            "text/plain": [
              "4"
            ]
          },
          "metadata": {},
          "execution_count": 78
        }
      ]
    },
    {
      "cell_type": "code",
      "source": [
        "spark.sql('SELECT COUNT(*) FROM people').show()"
      ],
      "metadata": {
        "colab": {
          "base_uri": "https://localhost:8080/"
        },
        "id": "rPqcsf4ZlRNu",
        "outputId": "75ad3acf-0e3c-48c2-ac49-3dd6cfe7bd17"
      },
      "execution_count": null,
      "outputs": [
        {
          "output_type": "stream",
          "name": "stdout",
          "text": [
            "+--------+\n",
            "|count(1)|\n",
            "+--------+\n",
            "|       4|\n",
            "+--------+\n",
            "\n"
          ]
        }
      ]
    },
    {
      "cell_type": "code",
      "source": [
        "def UpperCase(str):\n",
        "  return str.upper()"
      ],
      "metadata": {
        "id": "vMb8m_xbmRM7"
      },
      "execution_count": null,
      "outputs": []
    },
    {
      "cell_type": "code",
      "source": [
        "from pyspark.sql.functions import udf\n",
        "\n",
        "upperCaseUDF=udf(lambda z: UpperCase(z))"
      ],
      "metadata": {
        "id": "AL82QRurmSjp"
      },
      "execution_count": null,
      "outputs": []
    },
    {
      "cell_type": "code",
      "source": [
        "df2=df.withColumn(\"Uppercase Name\", upperCaseUDF(\"name\"))"
      ],
      "metadata": {
        "id": "LXbJgeW9QTrR"
      },
      "execution_count": null,
      "outputs": []
    },
    {
      "cell_type": "code",
      "source": [
        "df2.show()"
      ],
      "metadata": {
        "colab": {
          "base_uri": "https://localhost:8080/"
        },
        "id": "YQishH3-QajJ",
        "outputId": "2241c0c6-c180-46f8-ca1f-98838119940d"
      },
      "execution_count": null,
      "outputs": [
        {
          "output_type": "stream",
          "name": "stdout",
          "text": [
            "+----+----+---------+--------------+\n",
            "| age| gpa|     name|Uppercase Name|\n",
            "+----+----+---------+--------------+\n",
            "|NULL|NULL|  Krisada|       KRISADA|\n",
            "|  30|NULL|   Pradya|        PRADYA|\n",
            "|  19|NULL|   Justin|        JUSTIN|\n",
            "|NULL| 3.9|Teeravach|     TEERAVACH|\n",
            "+----+----+---------+--------------+\n",
            "\n"
          ]
        }
      ]
    },
    {
      "cell_type": "code",
      "source": [
        "#Exercise 4   Remove Duplicate\n",
        "df.drop_duplicates().show()"
      ],
      "metadata": {
        "id": "EwFT4ZVWziDR",
        "colab": {
          "base_uri": "https://localhost:8080/"
        },
        "outputId": "e88a87fa-aef0-4b65-f6ce-20a0c413ffb1"
      },
      "execution_count": null,
      "outputs": [
        {
          "output_type": "stream",
          "name": "stdout",
          "text": [
            "+----+----+---------+\n",
            "| age| gpa|     name|\n",
            "+----+----+---------+\n",
            "|NULL|NULL|  Krisada|\n",
            "|NULL| 3.9|Teeravach|\n",
            "|  30|NULL|   Pradya|\n",
            "|  19|NULL|   Justin|\n",
            "+----+----+---------+\n",
            "\n"
          ]
        }
      ]
    },
    {
      "cell_type": "code",
      "source": [
        "spark.sql('SELECT DISTINCT * FROM people').show()"
      ],
      "metadata": {
        "colab": {
          "base_uri": "https://localhost:8080/"
        },
        "id": "KRvl-h8Cmjq0",
        "outputId": "ffdd8717-9f3b-4323-daf8-369a874439ca"
      },
      "execution_count": null,
      "outputs": [
        {
          "output_type": "stream",
          "name": "stdout",
          "text": [
            "+----+----+---------+\n",
            "| age| gpa|     name|\n",
            "+----+----+---------+\n",
            "|NULL|NULL|  Krisada|\n",
            "|NULL| 3.9|Teeravach|\n",
            "|  30|NULL|   Pradya|\n",
            "|  19|NULL|   Justin|\n",
            "+----+----+---------+\n",
            "\n"
          ]
        }
      ]
    },
    {
      "cell_type": "code",
      "source": [
        "#Exercise 5 se average value to fill in the NULL\n",
        "df = df.na.fill(df.select(avg(df['age'])).collect()[0][0],['age'])\n",
        "df = df.na.fill(df.select(avg(df['gpa'])).collect()[0][0],['gpa'])\n",
        "df.show()"
      ],
      "metadata": {
        "id": "fxdRBdY4bODa",
        "colab": {
          "base_uri": "https://localhost:8080/"
        },
        "outputId": "b7688062-8b8c-4e7a-9fdc-9da69a669623"
      },
      "execution_count": null,
      "outputs": [
        {
          "output_type": "stream",
          "name": "stdout",
          "text": [
            "+---+---+---------+\n",
            "|age|gpa|     name|\n",
            "+---+---+---------+\n",
            "| 24|3.9|  Krisada|\n",
            "| 30|3.9|   Pradya|\n",
            "| 19|3.9|   Justin|\n",
            "| 24|3.9|Teeravach|\n",
            "+---+---+---------+\n",
            "\n"
          ]
        }
      ]
    },
    {
      "cell_type": "code",
      "source": [
        "#close session\n",
        "spark.stop()"
      ],
      "metadata": {
        "id": "ddVV46wkWTpy"
      },
      "execution_count": null,
      "outputs": []
    }
  ]
}