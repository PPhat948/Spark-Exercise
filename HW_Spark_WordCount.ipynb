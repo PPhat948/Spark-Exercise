{
  "nbformat": 4,
  "nbformat_minor": 0,
  "metadata": {
    "colab": {
      "provenance": []
    },
    "kernelspec": {
      "name": "python3",
      "display_name": "Python 3"
    },
    "language_info": {
      "name": "python"
    }
  },
  "cells": [
    {
      "cell_type": "code",
      "execution_count": null,
      "metadata": {
        "colab": {
          "base_uri": "https://localhost:8080/"
        },
        "id": "2pCqNFM8fT8-",
        "outputId": "86b83f9a-4a20-47c8-957b-151942926630"
      },
      "outputs": [
        {
          "output_type": "stream",
          "name": "stdout",
          "text": [
            "Requirement already satisfied: pyspark in /usr/local/lib/python3.11/dist-packages (3.5.5)\n",
            "Requirement already satisfied: py4j==0.10.9.7 in /usr/local/lib/python3.11/dist-packages (from pyspark) (0.10.9.7)\n",
            "Collecting findspark\n",
            "  Downloading findspark-2.0.1-py2.py3-none-any.whl.metadata (352 bytes)\n",
            "Downloading findspark-2.0.1-py2.py3-none-any.whl (4.4 kB)\n",
            "Installing collected packages: findspark\n",
            "Successfully installed findspark-2.0.1\n"
          ]
        }
      ],
      "source": [
        "# Installing required packages\n",
        "!pip install pyspark\n",
        "!pip install findspark"
      ]
    },
    {
      "cell_type": "code",
      "source": [
        "from pyspark import SparkContext,SparkConf\n",
        "# Creating a spark context class\n",
        "sc = SparkContext()"
      ],
      "metadata": {
        "id": "WqdBXrJbfY2Z"
      },
      "execution_count": null,
      "outputs": []
    },
    {
      "cell_type": "code",
      "source": [
        "#Set directory\n",
        "from google.colab import drive\n",
        "drive.mount('/content/drive/',force_remount=True)\n",
        "path = '/content/drive/My Drive/Big Data/Data/'"
      ],
      "metadata": {
        "colab": {
          "base_uri": "https://localhost:8080/"
        },
        "id": "W9yD3t5gff6U",
        "outputId": "0687860a-21e9-43dd-cd6d-7b826cb08a08"
      },
      "execution_count": null,
      "outputs": [
        {
          "output_type": "stream",
          "name": "stdout",
          "text": [
            "Mounted at /content/drive/\n"
          ]
        }
      ]
    },
    {
      "cell_type": "code",
      "source": [
        "lines = sc.textFile(path+\"words.txt\")"
      ],
      "metadata": {
        "id": "CM--QoNkf9Lv"
      },
      "execution_count": null,
      "outputs": []
    },
    {
      "cell_type": "code",
      "source": [
        "lines.count()"
      ],
      "metadata": {
        "colab": {
          "base_uri": "https://localhost:8080/"
        },
        "id": "zCV4QI6ggK-h",
        "outputId": "46a6f475-a860-4853-afa7-76eb0b9de048"
      },
      "execution_count": null,
      "outputs": [
        {
          "output_type": "execute_result",
          "data": {
            "text/plain": [
              "124456"
            ]
          },
          "metadata": {},
          "execution_count": 10
        }
      ]
    },
    {
      "cell_type": "code",
      "source": [
        "import re\n",
        "\n",
        "def remove_special_characters(text):\n",
        "  # Define a regular expression pattern to match special characters\n",
        "  pattern = r'[^a-zA-Z0-9\\s]'\n",
        "  # Replace special characters with an empty string\n",
        "  cleaned_text = re.sub(pattern, '', text)\n",
        "  return cleaned_text\n",
        "\n",
        "\n",
        "cleaned_lines = lines.map(remove_special_characters)\n",
        "\n"
      ],
      "metadata": {
        "id": "f7mZ4Gv3js3G"
      },
      "execution_count": null,
      "outputs": []
    },
    {
      "cell_type": "code",
      "source": [
        "cleaned_lines.take(5)"
      ],
      "metadata": {
        "colab": {
          "base_uri": "https://localhost:8080/"
        },
        "id": "BDXPA3MJkCSK",
        "outputId": "c6b4f3f1-1a35-4479-b7f1-7a26b33b528f"
      },
      "execution_count": null,
      "outputs": [
        {
          "output_type": "execute_result",
          "data": {
            "text/plain": [
              "['This is the 100th Etext file presented by Project Gutenberg and',\n",
              " 'is presented in cooperation with World Library Inc from their',\n",
              " 'Library of the Future and Shakespeare CDROMS  Project Gutenberg',\n",
              " 'often releases Etexts that are NOT placed in the Public Domain',\n",
              " '']"
            ]
          },
          "metadata": {},
          "execution_count": 22
        }
      ]
    },
    {
      "cell_type": "code",
      "source": [
        "def lower(line):\n",
        "  return line.lower()\n",
        "\n",
        "lower_lines=cleaned_lines.map(lower)"
      ],
      "metadata": {
        "id": "3kVyaq0kkFUQ"
      },
      "execution_count": null,
      "outputs": []
    },
    {
      "cell_type": "code",
      "source": [
        "words = lower_lines.flatMap(lambda line : line.split(\" \"))"
      ],
      "metadata": {
        "id": "veGcxhFShT-q"
      },
      "execution_count": null,
      "outputs": []
    },
    {
      "cell_type": "code",
      "source": [
        "words = words.filter(lambda x: x != '')"
      ],
      "metadata": {
        "id": "2YVJw0gYnYPl"
      },
      "execution_count": null,
      "outputs": []
    },
    {
      "cell_type": "code",
      "source": [
        "word_tuples = words.map(lambda word : (word, 1))"
      ],
      "metadata": {
        "id": "LkP530UNhiUU"
      },
      "execution_count": null,
      "outputs": []
    },
    {
      "cell_type": "code",
      "source": [
        "word_counts = word_tuples.reduceByKey(lambda a, b: (a + b))"
      ],
      "metadata": {
        "id": "gW6Jql2Ih3Kr"
      },
      "execution_count": null,
      "outputs": []
    },
    {
      "cell_type": "code",
      "source": [
        "word_counts.take(10)"
      ],
      "metadata": {
        "colab": {
          "base_uri": "https://localhost:8080/"
        },
        "id": "nWlD8GC3h_HQ",
        "outputId": "57269c92-ef27-4df5-90dc-4ea39c604ec4"
      },
      "execution_count": null,
      "outputs": [
        {
          "output_type": "execute_result",
          "data": {
            "text/plain": [
              "[('this', 6847),\n",
              " ('etext', 242),\n",
              " ('file', 19),\n",
              " ('by', 4412),\n",
              " ('and', 26728),\n",
              " ('with', 7996),\n",
              " ('world', 849),\n",
              " ('library', 232),\n",
              " ('from', 2646),\n",
              " ('their', 2077)]"
            ]
          },
          "metadata": {},
          "execution_count": 37
        }
      ]
    },
    {
      "cell_type": "code",
      "source": [
        "word_counts = word_counts.sortByKey()"
      ],
      "metadata": {
        "id": "aWOtOEgcnKrX"
      },
      "execution_count": null,
      "outputs": []
    },
    {
      "cell_type": "code",
      "source": [
        "word_counts.take(10)"
      ],
      "metadata": {
        "colab": {
          "base_uri": "https://localhost:8080/"
        },
        "id": "m-yh-1bunQUf",
        "outputId": "a0bc40b7-e490-48e5-9107-c75184a0c7e7"
      },
      "execution_count": null,
      "outputs": [
        {
          "output_type": "execute_result",
          "data": {
            "text/plain": [
              "[('0indexgut', 1),\n",
              " ('1', 308),\n",
              " ('10', 4),\n",
              " ('100', 2),\n",
              " ('10000', 1),\n",
              " ('100000000trillion', 1),\n",
              " ('100th', 1),\n",
              " ('101', 1),\n",
              " ('102', 1),\n",
              " ('103', 1)]"
            ]
          },
          "metadata": {},
          "execution_count": 39
        }
      ]
    },
    {
      "cell_type": "code",
      "source": [
        "word_counts.saveAsTextFile(path+'output')"
      ],
      "metadata": {
        "id": "pM9YxBPviHaW"
      },
      "execution_count": null,
      "outputs": []
    },
    {
      "cell_type": "code",
      "source": [
        "sc.stop()"
      ],
      "metadata": {
        "id": "Av2lFGPyiU3g"
      },
      "execution_count": null,
      "outputs": []
    }
  ]
}